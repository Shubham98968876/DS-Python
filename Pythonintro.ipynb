{
 "cells": [
  {
   "cell_type": "markdown",
   "id": "f334c643",
   "metadata": {},
   "source": [
    "## Chapter 1 - First Python Programming"
   ]
  },
  {
   "cell_type": "markdown",
   "id": "f1dc3e1f",
   "metadata": {},
   "source": [
    "### 1[a] Hello World"
   ]
  },
  {
   "cell_type": "code",
   "execution_count": 3,
   "id": "0a291017",
   "metadata": {},
   "outputs": [
    {
     "name": "stdout",
     "output_type": "stream",
     "text": [
      "welcome to python session\n"
     ]
    }
   ],
   "source": [
    "print('welcome to python session')"
   ]
  },
  {
   "cell_type": "code",
   "execution_count": 5,
   "id": "990c2dcc",
   "metadata": {},
   "outputs": [
    {
     "name": "stdout",
     "output_type": "stream",
     "text": [
      "shubham will become data scientist at the end of this year\n"
     ]
    }
   ],
   "source": [
    "print(\"shubham will become data scientist at the end of this year\")"
   ]
  },
  {
   "cell_type": "code",
   "execution_count": 9,
   "id": "c696ae0e",
   "metadata": {},
   "outputs": [
    {
     "name": "stdout",
     "output_type": "stream",
     "text": [
      "shubahm replied, \"ganesh session is nit bad\".\n"
     ]
    }
   ],
   "source": [
    "print(\"\"\"shubahm replied, \"ganesh session is nit bad\".\"\"\")"
   ]
  },
  {
   "cell_type": "code",
   "execution_count": 10,
   "id": "711577e1",
   "metadata": {},
   "outputs": [
    {
     "name": "stdout",
     "output_type": "stream",
     "text": [
      "shubham says ganesh session is not bad,\n",
      "     welcome\n"
     ]
    }
   ],
   "source": [
    "print(\"\"\"shubham says ganesh session is not bad,\n",
    "     welcome\"\"\")"
   ]
  },
  {
   "cell_type": "markdown",
   "id": "363599ae",
   "metadata": {},
   "source": [
    "### Cteate a variable"
   ]
  },
  {
   "cell_type": "code",
   "execution_count": 11,
   "id": "b4aad64b",
   "metadata": {},
   "outputs": [],
   "source": [
    "participants = ['shubham','ganesh','gita']\n",
    "#LHS = Variable\n",
    "#RHS = Values\n",
    "#In Python, index number always stars from 0.\n"
   ]
  },
  {
   "cell_type": "code",
   "execution_count": 12,
   "id": "1aec90d4",
   "metadata": {},
   "outputs": [
    {
     "data": {
      "text/plain": [
       "3"
      ]
     },
     "execution_count": 12,
     "metadata": {},
     "output_type": "execute_result"
    }
   ],
   "source": [
    "len(participants)"
   ]
  },
  {
   "cell_type": "code",
   "execution_count": 14,
   "id": "a84a7a5f",
   "metadata": {},
   "outputs": [
    {
     "data": {
      "text/plain": [
       "'gita'"
      ]
     },
     "execution_count": 14,
     "metadata": {},
     "output_type": "execute_result"
    }
   ],
   "source": [
    "participants[2]"
   ]
  },
  {
   "cell_type": "code",
   "execution_count": 15,
   "id": "6bd79e0d",
   "metadata": {},
   "outputs": [
    {
     "data": {
      "text/plain": [
       "['ganesh']"
      ]
     },
     "execution_count": 15,
     "metadata": {},
     "output_type": "execute_result"
    }
   ],
   "source": [
    "participants[1:2]"
   ]
  },
  {
   "cell_type": "code",
   "execution_count": 16,
   "id": "93f5a44e",
   "metadata": {},
   "outputs": [
    {
     "data": {
      "text/plain": [
       "['ganesh', 'gita']"
      ]
     },
     "execution_count": 16,
     "metadata": {},
     "output_type": "execute_result"
    }
   ],
   "source": [
    "participants[1:]"
   ]
  },
  {
   "cell_type": "code",
   "execution_count": 17,
   "id": "1c9cd668",
   "metadata": {},
   "outputs": [
    {
     "data": {
      "text/plain": [
       "['shubham', 'ganesh', 'gita']"
      ]
     },
     "execution_count": 17,
     "metadata": {},
     "output_type": "execute_result"
    }
   ],
   "source": [
    "participants[:3]"
   ]
  },
  {
   "cell_type": "markdown",
   "id": "66411165",
   "metadata": {},
   "source": [
    "## ========================================================================="
   ]
  },
  {
   "cell_type": "markdown",
   "id": "c771268f",
   "metadata": {},
   "source": [
    "# Chapter 2 - String and String Methods"
   ]
  },
  {
   "cell_type": "markdown",
   "id": "b6f474e8",
   "metadata": {},
   "source": [
    "#### Different Data types\n",
    "* Integer - numbers without decimal values.\n",
    "* Float - numbers with decimal values.\n",
    "* String - anything that comes under double quotes."
   ]
  },
  {
   "cell_type": "code",
   "execution_count": 19,
   "id": "9fcafc44",
   "metadata": {},
   "outputs": [
    {
     "data": {
      "text/plain": [
       "322"
      ]
     },
     "execution_count": 19,
     "metadata": {},
     "output_type": "execute_result"
    }
   ],
   "source": [
    "runs = 322\n",
    "runs"
   ]
  },
  {
   "cell_type": "code",
   "execution_count": 20,
   "id": "3834bde7",
   "metadata": {},
   "outputs": [
    {
     "data": {
      "text/plain": [
       "int"
      ]
     },
     "execution_count": 20,
     "metadata": {},
     "output_type": "execute_result"
    }
   ],
   "source": [
    "type(runs)"
   ]
  },
  {
   "cell_type": "code",
   "execution_count": 21,
   "id": "f3ff32eb",
   "metadata": {},
   "outputs": [
    {
     "data": {
      "text/plain": [
       "8.9"
      ]
     },
     "execution_count": 21,
     "metadata": {},
     "output_type": "execute_result"
    }
   ],
   "source": [
    "marks = 8.9\n",
    "marks"
   ]
  },
  {
   "cell_type": "code",
   "execution_count": 22,
   "id": "79f710d4",
   "metadata": {},
   "outputs": [
    {
     "data": {
      "text/plain": [
       "float"
      ]
     },
     "execution_count": 22,
     "metadata": {},
     "output_type": "execute_result"
    }
   ],
   "source": [
    "type(marks)"
   ]
  },
  {
   "cell_type": "markdown",
   "id": "f1a61845",
   "metadata": {},
   "source": [
    "### 2[b] Concaatenation - Indexing - Slicing"
   ]
  },
  {
   "cell_type": "code",
   "execution_count": 29,
   "id": "5ce1dbda",
   "metadata": {},
   "outputs": [],
   "source": [
    "fname = 'Shubham'\n",
    "lname = 'ganesh'\n",
    "age = 24\n"
   ]
  },
  {
   "cell_type": "code",
   "execution_count": 30,
   "id": "414bc7fe",
   "metadata": {},
   "outputs": [
    {
     "data": {
      "text/plain": [
       "24"
      ]
     },
     "execution_count": 30,
     "metadata": {},
     "output_type": "execute_result"
    }
   ],
   "source": [
    "fname\n",
    "lname\n",
    "age"
   ]
  },
  {
   "cell_type": "code",
   "execution_count": 31,
   "id": "fb902a1a",
   "metadata": {},
   "outputs": [
    {
     "data": {
      "text/plain": [
       "('Shubham', 'ganesh', 24)"
      ]
     },
     "execution_count": 31,
     "metadata": {},
     "output_type": "execute_result"
    }
   ],
   "source": [
    "fname,lname,age"
   ]
  },
  {
   "cell_type": "code",
   "execution_count": 32,
   "id": "b6ba21b0",
   "metadata": {},
   "outputs": [
    {
     "name": "stdout",
     "output_type": "stream",
     "text": [
      "Shubham ganesh 24\n"
     ]
    }
   ],
   "source": [
    "print(fname + ' ' + lname + ' ' + str(age))  #typecasting"
   ]
  },
  {
   "cell_type": "code",
   "execution_count": 33,
   "id": "a25a0bb2",
   "metadata": {},
   "outputs": [
    {
     "data": {
      "text/plain": [
       "int"
      ]
     },
     "execution_count": 33,
     "metadata": {},
     "output_type": "execute_result"
    }
   ],
   "source": [
    "type(age)"
   ]
  },
  {
   "cell_type": "code",
   "execution_count": 34,
   "id": "e35b2db0",
   "metadata": {},
   "outputs": [
    {
     "name": "stdout",
     "output_type": "stream",
     "text": [
      "Shubham ganesh 24\n"
     ]
    }
   ],
   "source": [
    "print(fname,lname,age)"
   ]
  },
  {
   "cell_type": "code",
   "execution_count": 35,
   "id": "aab11375",
   "metadata": {},
   "outputs": [
    {
     "data": {
      "text/plain": [
       "'Shubham'"
      ]
     },
     "execution_count": 35,
     "metadata": {},
     "output_type": "execute_result"
    }
   ],
   "source": [
    "fname"
   ]
  },
  {
   "cell_type": "code",
   "execution_count": 36,
   "id": "5de8a728",
   "metadata": {},
   "outputs": [
    {
     "data": {
      "text/plain": [
       "'S'"
      ]
     },
     "execution_count": 36,
     "metadata": {},
     "output_type": "execute_result"
    }
   ],
   "source": [
    "fname[0]"
   ]
  },
  {
   "cell_type": "code",
   "execution_count": 37,
   "id": "088cd07e",
   "metadata": {},
   "outputs": [
    {
     "data": {
      "text/plain": [
       "'Shubh'"
      ]
     },
     "execution_count": 37,
     "metadata": {},
     "output_type": "execute_result"
    }
   ],
   "source": [
    "fname[0:5]"
   ]
  },
  {
   "cell_type": "code",
   "execution_count": 38,
   "id": "385dd43a",
   "metadata": {},
   "outputs": [
    {
     "data": {
      "text/plain": [
       "'Shubh'"
      ]
     },
     "execution_count": 38,
     "metadata": {},
     "output_type": "execute_result"
    }
   ],
   "source": [
    "fname[:-2]"
   ]
  },
  {
   "cell_type": "code",
   "execution_count": 39,
   "id": "cb672815",
   "metadata": {},
   "outputs": [
    {
     "data": {
      "text/plain": [
       "'u'"
      ]
     },
     "execution_count": 39,
     "metadata": {},
     "output_type": "execute_result"
    }
   ],
   "source": [
    "fname[2]"
   ]
  },
  {
   "cell_type": "markdown",
   "id": "87cb021a",
   "metadata": {},
   "source": [
    "## ========================================================================="
   ]
  },
  {
   "cell_type": "markdown",
   "id": "86126bea",
   "metadata": {},
   "source": [
    "### 2[c] Manipulate with string"
   ]
  },
  {
   "cell_type": "code",
   "execution_count": 47,
   "id": "aa772d4e",
   "metadata": {},
   "outputs": [],
   "source": [
    "learner_1 = '   danial'\n",
    "learner_2 = 'shubham   '\n",
    "learner_3 = '     ganesh mule'\n",
    "learner_4 = 'pritam'\n"
   ]
  },
  {
   "cell_type": "code",
   "execution_count": 48,
   "id": "231ce295",
   "metadata": {},
   "outputs": [
    {
     "name": "stdout",
     "output_type": "stream",
     "text": [
      "   danial\n",
      "shubham   \n",
      "     ganesh mule\n",
      "pritam\n"
     ]
    }
   ],
   "source": [
    "print(learner_1)\n",
    "print(learner_2)\n",
    "print(learner_3)\n",
    "print(learner_4)"
   ]
  },
  {
   "cell_type": "code",
   "execution_count": 42,
   "id": "984f952e",
   "metadata": {},
   "outputs": [
    {
     "data": {
      "text/plain": [
       "9"
      ]
     },
     "execution_count": 42,
     "metadata": {},
     "output_type": "execute_result"
    }
   ],
   "source": [
    "len(learner_1)"
   ]
  },
  {
   "cell_type": "code",
   "execution_count": 43,
   "id": "e9a10374",
   "metadata": {},
   "outputs": [
    {
     "data": {
      "text/plain": [
       "10"
      ]
     },
     "execution_count": 43,
     "metadata": {},
     "output_type": "execute_result"
    }
   ],
   "source": [
    "len(learner_2)"
   ]
  },
  {
   "cell_type": "markdown",
   "id": "076eb593",
   "metadata": {},
   "source": [
    "### Terminology Alert:\n",
    "#### Methods/Function both are same - It will get ended with().\n",
    "### Why function?  To perform some operation on top of  my variable"
   ]
  },
  {
   "cell_type": "code",
   "execution_count": null,
   "id": "e6892b8e",
   "metadata": {},
   "outputs": [],
   "source": [
    "str."
   ]
  },
  {
   "cell_type": "code",
   "execution_count": 49,
   "id": "229b3419",
   "metadata": {},
   "outputs": [
    {
     "data": {
      "text/plain": [
       "False"
      ]
     },
     "execution_count": 49,
     "metadata": {},
     "output_type": "execute_result"
    }
   ],
   "source": [
    "learner_4.isupper()"
   ]
  },
  {
   "cell_type": "code",
   "execution_count": 50,
   "id": "b10d8189",
   "metadata": {},
   "outputs": [
    {
     "data": {
      "text/plain": [
       "'PRITAM'"
      ]
     },
     "execution_count": 50,
     "metadata": {},
     "output_type": "execute_result"
    }
   ],
   "source": [
    "learner_4.upper()"
   ]
  },
  {
   "cell_type": "code",
   "execution_count": 54,
   "id": "ba24feab",
   "metadata": {},
   "outputs": [],
   "source": [
    "learner_1 = learner_1.lstrip()\n"
   ]
  },
  {
   "cell_type": "code",
   "execution_count": 56,
   "id": "ede9ab8a",
   "metadata": {},
   "outputs": [
    {
     "data": {
      "text/plain": [
       "'shubham'"
      ]
     },
     "execution_count": 56,
     "metadata": {},
     "output_type": "execute_result"
    }
   ],
   "source": [
    "learner_2.rstrip()"
   ]
  },
  {
   "cell_type": "code",
   "execution_count": 55,
   "id": "5a1224b5",
   "metadata": {},
   "outputs": [
    {
     "data": {
      "text/plain": [
       "6"
      ]
     },
     "execution_count": 55,
     "metadata": {},
     "output_type": "execute_result"
    }
   ],
   "source": [
    "len(learner_1)"
   ]
  },
  {
   "cell_type": "code",
   "execution_count": 56,
   "id": "7c4a27bf",
   "metadata": {},
   "outputs": [
    {
     "data": {
      "text/plain": [
       "'shubham'"
      ]
     },
     "execution_count": 56,
     "metadata": {},
     "output_type": "execute_result"
    }
   ],
   "source": [
    "learner_2.rstrip()"
   ]
  },
  {
   "cell_type": "code",
   "execution_count": 58,
   "id": "a8651d2d",
   "metadata": {},
   "outputs": [
    {
     "data": {
      "text/plain": [
       "'ganesh mule'"
      ]
     },
     "execution_count": 58,
     "metadata": {},
     "output_type": "execute_result"
    }
   ],
   "source": [
    "learner_3."
   ]
  },
  {
   "cell_type": "code",
   "execution_count": 11,
   "id": "860db8f8",
   "metadata": {},
   "outputs": [],
   "source": [
    "student_1='   shubh'\n",
    "student_2='ram   '\n",
    "student_3='   ramesh'\n",
    "student_4='pritam'"
   ]
  },
  {
   "cell_type": "code",
   "execution_count": 12,
   "id": "08552f4b",
   "metadata": {},
   "outputs": [
    {
     "name": "stdout",
     "output_type": "stream",
     "text": [
      "   shubh\n",
      "ram   \n",
      "   ramesh\n",
      "pritam\n"
     ]
    }
   ],
   "source": [
    "print(student_1)\n",
    "print(student_2)\n",
    "print(student_3)\n",
    "print(student_4)"
   ]
  },
  {
   "cell_type": "markdown",
   "id": "684596e1",
   "metadata": {},
   "source": [
    "### ======================================================================="
   ]
  },
  {
   "cell_type": "markdown",
   "id": "1fd5d5d0",
   "metadata": {},
   "source": [
    "### 2[d] interact with user-input"
   ]
  },
  {
   "cell_type": "code",
   "execution_count": 17,
   "id": "c1893992",
   "metadata": {},
   "outputs": [
    {
     "name": "stdout",
     "output_type": "stream",
     "text": [
      "password : Shubh@123\n",
      "First Letter starts with S\n"
     ]
    }
   ],
   "source": [
    "user_input = input('password : ')\n",
    "print('First Letter starts with',user_input[0])"
   ]
  },
  {
   "cell_type": "code",
   "execution_count": 1,
   "id": "876449b1",
   "metadata": {},
   "outputs": [
    {
     "name": "stdout",
     "output_type": "stream",
     "text": [
      "Hello\n"
     ]
    }
   ],
   "source": [
    "#python - programming language exctacting insights from the data using different modules or libraries \n",
    "#inbuild function - print,type , len etc ->\n",
    "#print()\n",
    "#commemts\n",
    "print(\"Hello\")"
   ]
  },
  {
   "cell_type": "code",
   "execution_count": 2,
   "id": "9ac4b59f",
   "metadata": {},
   "outputs": [
    {
     "name": "stdout",
     "output_type": "stream",
     "text": [
      "6 5\n"
     ]
    }
   ],
   "source": [
    "x = 6\n",
    "y = 5\n",
    "print(x,y)"
   ]
  },
  {
   "cell_type": "code",
   "execution_count": 3,
   "id": "521f570e",
   "metadata": {},
   "outputs": [],
   "source": [
    "#Datatypes\n",
    "# integer -> whole number -> eg:1,,23,0\n",
    "# float -> decimals -> eg:2.32,23.2\n",
    "# bool -> True(1) False(0)\n",
    "\n",
    "# string -> text or characters -> \"text\" or 'text'\n",
    "# list -> mix of collection of item -> [] -> [1,2.4,True,\"string\"]\n",
    "# tuple -> mix of collection of item -> (1,2.0,True,False,\"string\")\n",
    "# dictionary -> syntax - {key1:value1,key2:value2,...,key:valuen} ->eg: {\"name\":\"python\",\"course\":\"DA\"}\n",
    "# set theory -> {1,2,3,45}\n",
    "\n",
    "# DataFrame,Series,arry(matrice)"
   ]
  },
  {
   "cell_type": "code",
   "execution_count": 4,
   "id": "af69bfce",
   "metadata": {},
   "outputs": [
    {
     "name": "stdout",
     "output_type": "stream",
     "text": [
      "3\n"
     ]
    }
   ],
   "source": [
    "#variables\n",
    "#no spaces in variable naming\n",
    "#case sensitive\n",
    "#meanigful var names should be written\n",
    "a = 1+2\n",
    "print(a)"
   ]
  },
  {
   "cell_type": "code",
   "execution_count": null,
   "id": "656ad8d5",
   "metadata": {},
   "outputs": [],
   "source": [
    "#syntaxerror: invalid syntax -> missing of punctuations, extra spaces in variable names etc\n",
    "#Nameerror: name 'A_1' is not defained -> var is not yet defined"
   ]
  },
  {
   "cell_type": "code",
   "execution_count": 5,
   "id": "07c6ad1d",
   "metadata": {},
   "outputs": [
    {
     "name": "stdout",
     "output_type": "stream",
     "text": [
      "8 3 10 4\n"
     ]
    }
   ],
   "source": [
    "#assigning multiple variable\n",
    "a,b,c,d=8,10,3,4\n",
    "print(a,c,b,d)"
   ]
  },
  {
   "cell_type": "code",
   "execution_count": 7,
   "id": "cf90ae94",
   "metadata": {},
   "outputs": [
    {
     "name": "stdout",
     "output_type": "stream",
     "text": [
      "0 0\n"
     ]
    }
   ],
   "source": [
    "var1,var2=0,0\n",
    "print(var1,var2)"
   ]
  },
  {
   "cell_type": "code",
   "execution_count": 8,
   "id": "db9dbb2d",
   "metadata": {},
   "outputs": [],
   "source": [
    "new_var=30.2"
   ]
  },
  {
   "cell_type": "code",
   "execution_count": 9,
   "id": "25f208ab",
   "metadata": {},
   "outputs": [
    {
     "data": {
      "text/plain": [
       "float"
      ]
     },
     "execution_count": 9,
     "metadata": {},
     "output_type": "execute_result"
    }
   ],
   "source": [
    "type(new_var)#tells you data type of variable"
   ]
  },
  {
   "cell_type": "code",
   "execution_count": 11,
   "id": "58ab4512",
   "metadata": {},
   "outputs": [
    {
     "data": {
      "text/plain": [
       "30"
      ]
     },
     "execution_count": 11,
     "metadata": {},
     "output_type": "execute_result"
    }
   ],
   "source": [
    "int(new_var)"
   ]
  },
  {
   "cell_type": "code",
   "execution_count": 12,
   "id": "76740b48",
   "metadata": {},
   "outputs": [
    {
     "data": {
      "text/plain": [
       "30.2"
      ]
     },
     "execution_count": 12,
     "metadata": {},
     "output_type": "execute_result"
    }
   ],
   "source": [
    "float(new_var)"
   ]
  },
  {
   "cell_type": "code",
   "execution_count": 13,
   "id": "cf1344d2",
   "metadata": {},
   "outputs": [],
   "source": [
    "new_var=int(new_var)"
   ]
  },
  {
   "cell_type": "code",
   "execution_count": 14,
   "id": "acac3a59",
   "metadata": {},
   "outputs": [
    {
     "data": {
      "text/plain": [
       "30"
      ]
     },
     "execution_count": 14,
     "metadata": {},
     "output_type": "execute_result"
    }
   ],
   "source": [
    "new_var"
   ]
  },
  {
   "cell_type": "code",
   "execution_count": 16,
   "id": "1e23a978",
   "metadata": {},
   "outputs": [
    {
     "name": "stdout",
     "output_type": "stream",
     "text": [
      "25.0\n"
     ]
    }
   ],
   "source": [
    "new_int=25\n",
    "new_int=float(new_int)\n",
    "print(new_int)"
   ]
  },
  {
   "cell_type": "code",
   "execution_count": 17,
   "id": "b6b467be",
   "metadata": {},
   "outputs": [
    {
     "name": "stdout",
     "output_type": "stream",
     "text": [
      "23 34\n",
      "23 45\n"
     ]
    }
   ],
   "source": [
    "#running multiple syntaxes in single line\n",
    "a,b=23,34\n",
    "print(a,b)\n",
    "\n",
    "a,b=23,45 ; print(a,b)"
   ]
  },
  {
   "cell_type": "code",
   "execution_count": 20,
   "id": "912d4453",
   "metadata": {},
   "outputs": [
    {
     "data": {
      "text/plain": [
       "8"
      ]
     },
     "execution_count": 20,
     "metadata": {},
     "output_type": "execute_result"
    }
   ],
   "source": [
    "a=2\n",
    "b=3\n",
    "a//b #floor division #elimates the decimal after dividing\n",
    "a**b #exponential"
   ]
  },
  {
   "cell_type": "code",
   "execution_count": 21,
   "id": "f4e9646d",
   "metadata": {},
   "outputs": [
    {
     "data": {
      "text/plain": [
       "8"
      ]
     },
     "execution_count": 21,
     "metadata": {},
     "output_type": "execute_result"
    }
   ],
   "source": [
    "c=a**b #exponential\n",
    "c #print(c)"
   ]
  },
  {
   "cell_type": "code",
   "execution_count": 1,
   "id": "e2c3a9da",
   "metadata": {},
   "outputs": [
    {
     "data": {
      "text/plain": [
       "True"
      ]
     },
     "execution_count": 1,
     "metadata": {},
     "output_type": "execute_result"
    }
   ],
   "source": [
    "#comparitive operaters - ==, <,>,>=,<=,!=\n",
    "A = 5\n",
    "B = 5.0\n",
    "\n",
    "A==B"
   ]
  },
  {
   "cell_type": "code",
   "execution_count": 2,
   "id": "2cad8219",
   "metadata": {},
   "outputs": [
    {
     "data": {
      "text/plain": [
       "False"
      ]
     },
     "execution_count": 2,
     "metadata": {},
     "output_type": "execute_result"
    }
   ],
   "source": [
    "A!=B"
   ]
  },
  {
   "cell_type": "code",
   "execution_count": 3,
   "id": "8e10cb21",
   "metadata": {},
   "outputs": [],
   "source": [
    "# = - assigning\n",
    "# == - verifying\n"
   ]
  },
  {
   "cell_type": "code",
   "execution_count": 4,
   "id": "e0a9e0f0",
   "metadata": {},
   "outputs": [
    {
     "name": "stdout",
     "output_type": "stream",
     "text": [
      "15 15\n"
     ]
    }
   ],
   "source": [
    "A=10\n",
    "B=15\n",
    "A=B\n",
    "print(A,B)"
   ]
  },
  {
   "cell_type": "code",
   "execution_count": 5,
   "id": "10e3490f",
   "metadata": {},
   "outputs": [
    {
     "name": "stdout",
     "output_type": "stream",
     "text": [
      "20\n"
     ]
    }
   ],
   "source": [
    "a=10\n",
    "b=20\n",
    "c=0\n",
    "c = c+b #c+=b #reassigning to a existing var\n",
    "print(c)"
   ]
  },
  {
   "cell_type": "code",
   "execution_count": 6,
   "id": "5a187b8b",
   "metadata": {},
   "outputs": [
    {
     "name": "stdout",
     "output_type": "stream",
     "text": [
      "10 20 20\n"
     ]
    }
   ],
   "source": [
    "print(a,b,c)"
   ]
  },
  {
   "cell_type": "code",
   "execution_count": 9,
   "id": "ceca7aca",
   "metadata": {},
   "outputs": [
    {
     "data": {
      "text/plain": [
       "0"
      ]
     },
     "execution_count": 9,
     "metadata": {},
     "output_type": "execute_result"
    }
   ],
   "source": [
    "c -= b\n",
    "c"
   ]
  },
  {
   "cell_type": "code",
   "execution_count": 13,
   "id": "09679ca7",
   "metadata": {},
   "outputs": [
    {
     "name": "stdout",
     "output_type": "stream",
     "text": [
      "640000000\n"
     ]
    }
   ],
   "source": [
    "a *= b\n",
    "print(a)"
   ]
  },
  {
   "cell_type": "code",
   "execution_count": 14,
   "id": "f51adfd2",
   "metadata": {},
   "outputs": [
    {
     "data": {
      "text/plain": [
       "32000000"
      ]
     },
     "execution_count": 14,
     "metadata": {},
     "output_type": "execute_result"
    }
   ],
   "source": [
    "a //= b \n",
    "a"
   ]
  },
  {
   "cell_type": "code",
   "execution_count": 15,
   "id": "5233ff26",
   "metadata": {},
   "outputs": [
    {
     "data": {
      "text/plain": [
       "1"
      ]
     },
     "execution_count": 15,
     "metadata": {},
     "output_type": "execute_result"
    }
   ],
   "source": [
    "a =10; b= 3\n",
    "a%b"
   ]
  },
  {
   "cell_type": "markdown",
   "id": "7783efe6",
   "metadata": {},
   "source": [
    "## String"
   ]
  },
  {
   "cell_type": "code",
   "execution_count": 19,
   "id": "68fd14aa",
   "metadata": {},
   "outputs": [
    {
     "name": "stdout",
     "output_type": "stream",
     "text": [
      "excelr\n"
     ]
    }
   ],
   "source": [
    "#syntax  #immutable\n",
    "#string -> text or character -> \"text\" or 'text' -> text sequencing -> indexing(+ve & -ve)\n",
    "\n",
    "\n",
    "str1 = \"excelr\"\n",
    "print(str1)\n",
    "\n",
    "# text sequence\n",
    "#  e  x  c  e  l  r\n",
    "#  0  1  2  3  4  5  +ve indexing\n",
    "# -6 -5 -4 -3 -2 -1  -ve indexing\n",
    "\n",
    "\n",
    "#slicing or accessing\n",
    "#indexing -> []\n",
    "\n",
    "\n",
    "#str1[1:4] #+ve"
   ]
  },
  {
   "cell_type": "code",
   "execution_count": 20,
   "id": "a2c58eaf",
   "metadata": {},
   "outputs": [
    {
     "data": {
      "text/plain": [
       "'xce'"
      ]
     },
     "execution_count": 20,
     "metadata": {},
     "output_type": "execute_result"
    }
   ],
   "source": [
    "#type() - inbuild\n",
    "str1[1:4] #str[lowerlimit:upperlimit(n-1)]"
   ]
  },
  {
   "cell_type": "code",
   "execution_count": 21,
   "id": "870ac1b3",
   "metadata": {},
   "outputs": [
    {
     "data": {
      "text/plain": [
       "'xcel'"
      ]
     },
     "execution_count": 21,
     "metadata": {},
     "output_type": "execute_result"
    }
   ],
   "source": [
    "str1[1:5]"
   ]
  },
  {
   "cell_type": "code",
   "execution_count": 22,
   "id": "634a4d53",
   "metadata": {},
   "outputs": [
    {
     "data": {
      "text/plain": [
       "'xce'"
      ]
     },
     "execution_count": 22,
     "metadata": {},
     "output_type": "execute_result"
    }
   ],
   "source": [
    "str1[-5:-2]  #-ve indexing"
   ]
  },
  {
   "cell_type": "code",
   "execution_count": null,
   "id": "cc7718db",
   "metadata": {},
   "outputs": [],
   "source": [
    "str1 #entire"
   ]
  },
  {
   "cell_type": "code",
   "execution_count": null,
   "id": "341d0294",
   "metadata": {},
   "outputs": [],
   "source": [
    "str1[::] #entire #str1[lpwer limit:upper limit:step(optional)]"
   ]
  },
  {
   "cell_type": "code",
   "execution_count": null,
   "id": "0eee7236",
   "metadata": {},
   "outputs": [],
   "source": [
    "str1[:] #entire #str1[lower limit: upper limit]"
   ]
  },
  {
   "cell_type": "code",
   "execution_count": 24,
   "id": "a324970c",
   "metadata": {},
   "outputs": [
    {
     "data": {
      "text/plain": [
       "'ecl'"
      ]
     },
     "execution_count": 24,
     "metadata": {},
     "output_type": "execute_result"
    }
   ],
   "source": [
    "str1[::2]"
   ]
  },
  {
   "cell_type": "code",
   "execution_count": 25,
   "id": "64c1cd3c",
   "metadata": {},
   "outputs": [
    {
     "data": {
      "text/plain": [
       "'rlecxe'"
      ]
     },
     "execution_count": 25,
     "metadata": {},
     "output_type": "execute_result"
    }
   ],
   "source": [
    "str1[::-1]"
   ]
  },
  {
   "cell_type": "code",
   "execution_count": 28,
   "id": "fbe8959b",
   "metadata": {},
   "outputs": [
    {
     "name": "stdout",
     "output_type": "stream",
     "text": [
      "r\n",
      "r\n"
     ]
    }
   ],
   "source": [
    "print(str1[-1]);print(str1[5])"
   ]
  },
  {
   "cell_type": "code",
   "execution_count": 29,
   "id": "12d7439e",
   "metadata": {},
   "outputs": [
    {
     "data": {
      "text/plain": [
       "6"
      ]
     },
     "execution_count": 29,
     "metadata": {},
     "output_type": "execute_result"
    }
   ],
   "source": [
    "str1 = \"excelr\"\n",
    "len(str1)  #len(var) #length - default fn"
   ]
  },
  {
   "cell_type": "code",
   "execution_count": 30,
   "id": "3bfb5ca3",
   "metadata": {},
   "outputs": [
    {
     "data": {
      "text/plain": [
       "str"
      ]
     },
     "execution_count": 30,
     "metadata": {},
     "output_type": "execute_result"
    }
   ],
   "source": [
    "type(str1)"
   ]
  },
  {
   "cell_type": "code",
   "execution_count": 35,
   "id": "e96bf3db",
   "metadata": {},
   "outputs": [
    {
     "name": "stdout",
     "output_type": "stream",
     "text": [
      "excelr Solution\n",
      "excelr5\n",
      "excelr5\n"
     ]
    }
   ],
   "source": [
    "#updataing or #concatinating\n",
    "str1 = \"excelr\"\n",
    "str2 = \"Solution\" #you can add str to str\n",
    "\n",
    "print(str1 + ' ' + str2)\n",
    "print(str1+\"5\")\n",
    "print(str1+str(5))\n",
    "\n",
    "#TypeError : can only concatenate str (not \"int\") to str"
   ]
  },
  {
   "cell_type": "code",
   "execution_count": 44,
   "id": "c6ba294c",
   "metadata": {},
   "outputs": [
    {
     "name": "stdout",
     "output_type": "stream",
     "text": [
      "This is For an \"example\" For your understanding\n"
     ]
    }
   ],
   "source": [
    "# triple quatation # write the str in multiple lines\n",
    "new = \"\"\"This is For an \"example\" For your understanding\"\"\"\n",
    "print(new)"
   ]
  },
  {
   "cell_type": "code",
   "execution_count": 45,
   "id": "e47c5e7a",
   "metadata": {},
   "outputs": [
    {
     "name": "stdout",
     "output_type": "stream",
     "text": [
      "This is To an \"example\" To your understanding\n"
     ]
    }
   ],
   "source": [
    "new1 = new.replace(\"For\",\"To\",2) #replace(old,new) , count = 2\n",
    "print(new1)"
   ]
  },
  {
   "cell_type": "code",
   "execution_count": 40,
   "id": "26035b67",
   "metadata": {},
   "outputs": [
    {
     "name": "stdout",
     "output_type": "stream",
     "text": [
      "this is first line1\n",
      "      this ts second line2\n"
     ]
    }
   ],
   "source": [
    "new_str=\"\"\"this is first line1\n",
    "      this ts second line2\"\"\"\n",
    "print(new_str)"
   ]
  },
  {
   "cell_type": "code",
   "execution_count": 42,
   "id": "3fe05726",
   "metadata": {},
   "outputs": [
    {
     "name": "stdout",
     "output_type": "stream",
     "text": [
      "this is first line   this is second line   this is third line\n"
     ]
    }
   ],
   "source": [
    "new_str1= \"this is first line\\\n",
    "   this is second line\\\n",
    "   this is third line\"\n",
    "print(new_str1)"
   ]
  },
  {
   "cell_type": "code",
   "execution_count": null,
   "id": "c87ec99e",
   "metadata": {},
   "outputs": [],
   "source": [
    "# \\n - new line or next line"
   ]
  },
  {
   "cell_type": "code",
   "execution_count": 46,
   "id": "f4925c45",
   "metadata": {},
   "outputs": [
    {
     "name": "stdout",
     "output_type": "stream",
     "text": [
      "shubham\n"
     ]
    }
   ],
   "source": [
    "#different inbuilt fn's for diff datatypes\n",
    "#str\n",
    "str2=\"shubham\"\n",
    "print(str2)"
   ]
  },
  {
   "cell_type": "code",
   "execution_count": 47,
   "id": "f98fcae2",
   "metadata": {},
   "outputs": [
    {
     "data": {
      "text/plain": [
       "'hhubham'"
      ]
     },
     "execution_count": 47,
     "metadata": {},
     "output_type": "execute_result"
    }
   ],
   "source": [
    "str2.replace(\"s\",\"h\")"
   ]
  },
  {
   "cell_type": "code",
   "execution_count": 48,
   "id": "26692971",
   "metadata": {},
   "outputs": [
    {
     "name": "stdout",
     "output_type": "stream",
     "text": [
      "Help on built-in function replace:\n",
      "\n",
      "replace(old, new, count=-1, /) method of builtins.str instance\n",
      "    Return a copy with all occurrences of substring old replaced by new.\n",
      "    \n",
      "      count\n",
      "        Maximum number of occurrences to replace.\n",
      "        -1 (the default value) means replace all occurrences.\n",
      "    \n",
      "    If the optional argument count is given, only the first count occurrences are\n",
      "    replaced.\n",
      "\n"
     ]
    }
   ],
   "source": [
    "#replace\n",
    "help(str2.replace)\n",
    "#replace(old,new)\n"
   ]
  },
  {
   "cell_type": "code",
   "execution_count": 50,
   "id": "313fbfb0",
   "metadata": {},
   "outputs": [
    {
     "name": "stdout",
     "output_type": "stream",
     "text": [
      "Help on method_descriptor:\n",
      "\n",
      "split(self, /, sep=None, maxsplit=-1)\n",
      "    Return a list of the substrings in the string, using sep as the separator string.\n",
      "    \n",
      "      sep\n",
      "        The separator used to split the string.\n",
      "    \n",
      "        When set to None (the default value), will split on any whitespace\n",
      "        character (including \\\\n \\\\r \\\\t \\\\f and spaces) and will discard\n",
      "        empty strings from the result.\n",
      "      maxsplit\n",
      "        Maximum number of splits (starting from the left).\n",
      "        -1 (the default value) means no limit.\n",
      "    \n",
      "    Note, str.split() is mainly useful for data that has been intentionally\n",
      "    delimited.  With natural text that includes punctuation, consider using\n",
      "    the regular expression module.\n",
      "\n"
     ]
    }
   ],
   "source": [
    "#split()\n",
    "help(str.split)"
   ]
  },
  {
   "cell_type": "code",
   "execution_count": 12,
   "id": "4cebbf5c",
   "metadata": {},
   "outputs": [
    {
     "name": "stdout",
     "output_type": "stream",
     "text": [
      "This is For an \"example\".For your understanding\n",
      "7\n",
      "3\n"
     ]
    }
   ],
   "source": [
    "#split()\n",
    "\n",
    "New = \"\"\"This is For an \"example\".For your understanding\"\"\"\n",
    "print(New)\n",
    "new.split() #split #sep = None\n",
    "New.split(\".\")\n",
    "print(len(new.split()))\n",
    "New.split(\"an\")\n",
    "print(len(New.split(\"an\")))"
   ]
  },
  {
   "cell_type": "code",
   "execution_count": 13,
   "id": "05a60888",
   "metadata": {},
   "outputs": [
    {
     "data": {
      "text/plain": [
       "[\"I'm, manish\", '\\n     I, am dhawan', '\\n     I, am a footballer']"
      ]
     },
     "execution_count": 13,
     "metadata": {},
     "output_type": "execute_result"
    }
   ],
   "source": [
    "new2 = \"\"\"I'm, manish.\n",
    "     I, am dhawan.\n",
    "     I, am a footballer\"\"\"\n",
    "new2.split(\".\")"
   ]
  },
  {
   "cell_type": "code",
   "execution_count": 20,
   "id": "4448a70c",
   "metadata": {},
   "outputs": [
    {
     "data": {
      "text/plain": [
       "3"
      ]
     },
     "execution_count": 20,
     "metadata": {},
     "output_type": "execute_result"
    }
   ],
   "source": [
    "#str.count(subdtr)\n",
    "new2.count(\"footballer\")\n",
    "new2.count(\"i\")\n",
    "new2.count(\"I\")"
   ]
  },
  {
   "cell_type": "code",
   "execution_count": 21,
   "id": "d61f421a",
   "metadata": {},
   "outputs": [
    {
     "data": {
      "text/plain": [
       "\"I'M, MANISH.\\n     I, AM DHAWAN.\\n     I, AM A FOOTBALLER\""
      ]
     },
     "execution_count": 21,
     "metadata": {},
     "output_type": "execute_result"
    }
   ],
   "source": [
    "#upper()\n",
    "new2.upper() #convert the string in capitals"
   ]
  },
  {
   "cell_type": "code",
   "execution_count": 22,
   "id": "43dffaf9",
   "metadata": {},
   "outputs": [
    {
     "data": {
      "text/plain": [
       "\"i'm, manish.\\n     i, am dhawan.\\n     i, am a footballer\""
      ]
     },
     "execution_count": 22,
     "metadata": {},
     "output_type": "execute_result"
    }
   ],
   "source": [
    "#lower()\n",
    "new2.lower() #convert the string in lower"
   ]
  },
  {
   "cell_type": "code",
   "execution_count": 25,
   "id": "0ffbcbd5",
   "metadata": {},
   "outputs": [
    {
     "data": {
      "text/plain": [
       "'Excelr Solution Is A Traning Institute'"
      ]
     },
     "execution_count": 25,
     "metadata": {},
     "output_type": "execute_result"
    }
   ],
   "source": [
    "#title()\n",
    "new=\"excelr solution is a traning institute\"\n",
    "new.title()"
   ]
  },
  {
   "cell_type": "code",
   "execution_count": 26,
   "id": "72157be1",
   "metadata": {},
   "outputs": [
    {
     "data": {
      "text/plain": [
       "'Excelr solution is a traning institute'"
      ]
     },
     "execution_count": 26,
     "metadata": {},
     "output_type": "execute_result"
    }
   ],
   "source": [
    "#capitalize\n",
    "new.capitalize()"
   ]
  },
  {
   "cell_type": "code",
   "execution_count": 33,
   "id": "8d31abfd",
   "metadata": {},
   "outputs": [
    {
     "name": "stdout",
     "output_type": "stream",
     "text": [
      "False True False\n",
      "123\n"
     ]
    },
    {
     "data": {
      "text/plain": [
       "True"
      ]
     },
     "execution_count": 33,
     "metadata": {},
     "output_type": "execute_result"
    }
   ],
   "source": [
    "new = \"123s\"\n",
    "# .isalnum - checks whether the str is entirely alpha or numeric or mix of the. if yes , True \n",
    "print(new.isalpha(),new.isalnum(),new.isnumeric()) #output - boolean values - True or False\n",
    "new = \"123\"\n",
    "print(new)\n",
    "new.isalnum()"
   ]
  },
  {
   "cell_type": "code",
   "execution_count": 3,
   "id": "b191b733",
   "metadata": {},
   "outputs": [
    {
     "data": {
      "text/plain": [
       "('p', 'y', 't', 'h', 'o', 'n')"
      ]
     },
     "execution_count": 3,
     "metadata": {},
     "output_type": "execute_result"
    }
   ],
   "source": [
    "print(list(\"python\"))\n",
    "print(tuple(\"python\"))"
   ]
  },
  {
   "cell_type": "markdown",
   "id": "c513fbf0",
   "metadata": {},
   "source": [
    "## List (Mutable)"
   ]
  },
  {
   "cell_type": "code",
   "execution_count": 5,
   "id": "0171e2e5",
   "metadata": {},
   "outputs": [
    {
     "name": "stdout",
     "output_type": "stream",
     "text": [
      "[5, 2.2, True, 'text']\n",
      "[1, 23, 4, 5, 6, 7.5]\n",
      "(5, 2.2, True, 'text')\n"
     ]
    }
   ],
   "source": [
    "list_1 = [5,2.2,True,'text']\n",
    "list_2 = [1,23,4,5,6,7.5]\n",
    "tuple = (5,2.2,True,'text')\n",
    "print(list_1)\n",
    "print(list_2)\n",
    "print(tuple)"
   ]
  },
  {
   "cell_type": "code",
   "execution_count": 6,
   "id": "acc6bbd2",
   "metadata": {},
   "outputs": [
    {
     "data": {
      "text/plain": [
       "1934267511360"
      ]
     },
     "execution_count": 6,
     "metadata": {},
     "output_type": "execute_result"
    }
   ],
   "source": [
    "id(list_1) #id(var)"
   ]
  },
  {
   "cell_type": "code",
   "execution_count": 14,
   "id": "49af19c0",
   "metadata": {},
   "outputs": [],
   "source": [
    "list_1.append(34)#will add the elements from the end of the list"
   ]
  },
  {
   "cell_type": "code",
   "execution_count": 15,
   "id": "a86126cc",
   "metadata": {},
   "outputs": [
    {
     "data": {
      "text/plain": [
       "[5, 2.2, True, 'text', 25, 25, 25, 25, 25, 34]"
      ]
     },
     "execution_count": 15,
     "metadata": {},
     "output_type": "execute_result"
    }
   ],
   "source": [
    "list_1"
   ]
  },
  {
   "cell_type": "code",
   "execution_count": 18,
   "id": "8a443bca",
   "metadata": {},
   "outputs": [],
   "source": [
    "list_1= [5,2.2,True,\"text\"]\n",
    "    # 0  1    2    3\n",
    "    #-4 -3   -2    -1\n",
    "    "
   ]
  },
  {
   "cell_type": "code",
   "execution_count": 19,
   "id": "cc976470",
   "metadata": {},
   "outputs": [
    {
     "data": {
      "text/plain": [
       "[True, 'text']"
      ]
     },
     "execution_count": 19,
     "metadata": {},
     "output_type": "execute_result"
    }
   ],
   "source": [
    "list_1[2:4]"
   ]
  },
  {
   "cell_type": "code",
   "execution_count": 20,
   "id": "540dca83",
   "metadata": {},
   "outputs": [
    {
     "data": {
      "text/plain": [
       "[2.2, True]"
      ]
     },
     "execution_count": 20,
     "metadata": {},
     "output_type": "execute_result"
    }
   ],
   "source": [
    "list_1[-3:-1]"
   ]
  },
  {
   "cell_type": "code",
   "execution_count": 21,
   "id": "94eed412",
   "metadata": {},
   "outputs": [
    {
     "data": {
      "text/plain": [
       "[2.2, True, 'text']"
      ]
     },
     "execution_count": 21,
     "metadata": {},
     "output_type": "execute_result"
    }
   ],
   "source": [
    "list_1[1:]"
   ]
  },
  {
   "cell_type": "code",
   "execution_count": 23,
   "id": "9ce8d540",
   "metadata": {},
   "outputs": [
    {
     "data": {
      "text/plain": [
       "[5, 2.2, True, 'text']"
      ]
     },
     "execution_count": 23,
     "metadata": {},
     "output_type": "execute_result"
    }
   ],
   "source": [
    "list_1[:]"
   ]
  },
  {
   "cell_type": "code",
   "execution_count": 25,
   "id": "abdd587d",
   "metadata": {},
   "outputs": [
    {
     "data": {
      "text/plain": [
       "[True, 'text']"
      ]
     },
     "execution_count": 25,
     "metadata": {},
     "output_type": "execute_result"
    }
   ],
   "source": [
    "list_1[-2:]"
   ]
  },
  {
   "cell_type": "code",
   "execution_count": 26,
   "id": "16168cd0",
   "metadata": {},
   "outputs": [
    {
     "data": {
      "text/plain": [
       "['text', True, 2.2, 5]"
      ]
     },
     "execution_count": 26,
     "metadata": {},
     "output_type": "execute_result"
    }
   ],
   "source": [
    "list_1[::-1] #reverse order"
   ]
  },
  {
   "cell_type": "code",
   "execution_count": 28,
   "id": "14a49615",
   "metadata": {},
   "outputs": [
    {
     "data": {
      "text/plain": [
       "4"
      ]
     },
     "execution_count": 28,
     "metadata": {},
     "output_type": "execute_result"
    }
   ],
   "source": [
    "len(list_1)"
   ]
  },
  {
   "cell_type": "code",
   "execution_count": 29,
   "id": "4a6eeb9c",
   "metadata": {},
   "outputs": [
    {
     "data": {
      "text/plain": [
       "list"
      ]
     },
     "execution_count": 29,
     "metadata": {},
     "output_type": "execute_result"
    }
   ],
   "source": [
    "type(list_1)"
   ]
  },
  {
   "cell_type": "code",
   "execution_count": 31,
   "id": "7f970050",
   "metadata": {},
   "outputs": [],
   "source": [
    "#append , extned,insert,pop,remove\n",
    "list_1 = [5,2.2,True,\"text\"]"
   ]
  },
  {
   "cell_type": "code",
   "execution_count": 32,
   "id": "3307ac9b",
   "metadata": {},
   "outputs": [],
   "source": [
    "list_1.append(25)"
   ]
  },
  {
   "cell_type": "code",
   "execution_count": 33,
   "id": "b258c044",
   "metadata": {},
   "outputs": [
    {
     "data": {
      "text/plain": [
       "[5, 2.2, True, 'text', 25]"
      ]
     },
     "execution_count": 33,
     "metadata": {},
     "output_type": "execute_result"
    }
   ],
   "source": [
    "list_1"
   ]
  },
  {
   "cell_type": "code",
   "execution_count": 36,
   "id": "d2dd2ab5",
   "metadata": {},
   "outputs": [
    {
     "name": "stdout",
     "output_type": "stream",
     "text": [
      "Help on built-in function insert:\n",
      "\n",
      "insert(index, object, /) method of builtins.list instance\n",
      "    Insert object before index.\n",
      "\n"
     ]
    }
   ],
   "source": [
    "help(list_1.insert)"
   ]
  },
  {
   "cell_type": "code",
   "execution_count": 38,
   "id": "bd5a796d",
   "metadata": {},
   "outputs": [],
   "source": [
    "#insert()  #use to insert the value in list\n",
    "list_1.insert(4,\"text1\")"
   ]
  },
  {
   "cell_type": "code",
   "execution_count": 39,
   "id": "17917b30",
   "metadata": {},
   "outputs": [
    {
     "data": {
      "text/plain": [
       "[5, 2.2, True, 'text', 'text1', 25]"
      ]
     },
     "execution_count": 39,
     "metadata": {},
     "output_type": "execute_result"
    }
   ],
   "source": [
    "list_1"
   ]
  },
  {
   "cell_type": "code",
   "execution_count": null,
   "id": "c5938036",
   "metadata": {},
   "outputs": [],
   "source": [
    "list_1 = [5,2.2,True,\"text\"]\n",
    "list_2 = [1,2,4,3]"
   ]
  },
  {
   "cell_type": "code",
   "execution_count": 41,
   "id": "fd01c9f0",
   "metadata": {},
   "outputs": [],
   "source": [
    "#extend\n",
    "list_1.extend(list_2)\n"
   ]
  },
  {
   "cell_type": "code",
   "execution_count": 42,
   "id": "fa2903cc",
   "metadata": {},
   "outputs": [
    {
     "data": {
      "text/plain": [
       "[5, 2.2, True, 'text', 'text1', 25, 1, 23, 4, 5, 6, 7.5, 1, 23, 4, 5, 6, 7.5]"
      ]
     },
     "execution_count": 42,
     "metadata": {},
     "output_type": "execute_result"
    }
   ],
   "source": [
    "list_1"
   ]
  },
  {
   "cell_type": "code",
   "execution_count": 43,
   "id": "0f6cc675",
   "metadata": {},
   "outputs": [
    {
     "name": "stdout",
     "output_type": "stream",
     "text": [
      "[5, 2.2, True, 'text', [1, 2, 3, 4, 5, 6, 7]]\n"
     ]
    }
   ],
   "source": [
    "list_1 = [5,2.2,True,\"text\"]\n",
    "list_2 = [1,2,3,4,5,6,7]\n",
    "list_1.append(list_2)\n",
    "print(list_1)\n",
    "# nasted list => a list within a list"
   ]
  },
  {
   "cell_type": "code",
   "execution_count": 44,
   "id": "5d135806",
   "metadata": {},
   "outputs": [
    {
     "data": {
      "text/plain": [
       "[5, 2.2, True, 'text', [1, 2, 3, 4, 5, 6, 7]]"
      ]
     },
     "execution_count": 44,
     "metadata": {},
     "output_type": "execute_result"
    }
   ],
   "source": [
    "list_1"
   ]
  },
  {
   "cell_type": "code",
   "execution_count": 45,
   "id": "e711cb09",
   "metadata": {},
   "outputs": [
    {
     "data": {
      "text/plain": [
       "[3, 4]"
      ]
     },
     "execution_count": 45,
     "metadata": {},
     "output_type": "execute_result"
    }
   ],
   "source": [
    "list_1[4][2:4]"
   ]
  },
  {
   "cell_type": "code",
   "execution_count": 46,
   "id": "77a20cc1",
   "metadata": {},
   "outputs": [
    {
     "data": {
      "text/plain": [
       "3"
      ]
     },
     "execution_count": 46,
     "metadata": {},
     "output_type": "execute_result"
    }
   ],
   "source": [
    "list_1[4][2]"
   ]
  },
  {
   "cell_type": "code",
   "execution_count": 47,
   "id": "df684039",
   "metadata": {},
   "outputs": [
    {
     "data": {
      "text/plain": [
       "3"
      ]
     },
     "execution_count": 47,
     "metadata": {},
     "output_type": "execute_result"
    }
   ],
   "source": [
    "list_1[-1][-5]"
   ]
  },
  {
   "cell_type": "code",
   "execution_count": 48,
   "id": "b79d7893",
   "metadata": {},
   "outputs": [
    {
     "data": {
      "text/plain": [
       "3"
      ]
     },
     "execution_count": 48,
     "metadata": {},
     "output_type": "execute_result"
    }
   ],
   "source": [
    "list_1[-1][2]"
   ]
  },
  {
   "cell_type": "code",
   "execution_count": 49,
   "id": "761613e2",
   "metadata": {},
   "outputs": [
    {
     "data": {
      "text/plain": [
       "[5, 2.2, True, 'text', [1, 2, 3, [10, 12, 13], 4, 5, 6, 7]]"
      ]
     },
     "execution_count": 49,
     "metadata": {},
     "output_type": "execute_result"
    }
   ],
   "source": [
    "new_list = [5, 2.2, True, 'text', [1, 2, 3,[10,12,13], 4, 5, 6, 7]]\n",
    "new_list\n"
   ]
  },
  {
   "cell_type": "code",
   "execution_count": 51,
   "id": "fbb5c8c4",
   "metadata": {},
   "outputs": [],
   "source": [
    "new_list[4][3].append(14)"
   ]
  },
  {
   "cell_type": "code",
   "execution_count": 52,
   "id": "c6872640",
   "metadata": {},
   "outputs": [
    {
     "data": {
      "text/plain": [
       "[5, 2.2, True, 'text', [1, 2, 3, [10, 12, 13, 14], 4, 5, 6, 7]]"
      ]
     },
     "execution_count": 52,
     "metadata": {},
     "output_type": "execute_result"
    }
   ],
   "source": [
    "new_list"
   ]
  },
  {
   "cell_type": "code",
   "execution_count": 53,
   "id": "f192e04c",
   "metadata": {},
   "outputs": [],
   "source": [
    "new_list[4][3].insert(1,12)"
   ]
  },
  {
   "cell_type": "code",
   "execution_count": 54,
   "id": "1ace9c3c",
   "metadata": {},
   "outputs": [
    {
     "data": {
      "text/plain": [
       "[5, 2.2, True, 'text', [1, 2, 3, [10, 12, 12, 13, 14], 4, 5, 6, 7]]"
      ]
     },
     "execution_count": 54,
     "metadata": {},
     "output_type": "execute_result"
    }
   ],
   "source": [
    "new_list"
   ]
  },
  {
   "cell_type": "code",
   "execution_count": null,
   "id": "2169948b",
   "metadata": {},
   "outputs": [],
   "source": [
    "list1 = [5,2.2,True,\"text\"]"
   ]
  },
  {
   "cell_type": "code",
   "execution_count": 56,
   "id": "8c369cbc",
   "metadata": {},
   "outputs": [],
   "source": [
    "#reverse #mutable\n",
    "list_1 = [5,2.2,True,\"text\"]\n",
    "list_1.reverse()"
   ]
  },
  {
   "cell_type": "code",
   "execution_count": 57,
   "id": "4aab6db1",
   "metadata": {},
   "outputs": [
    {
     "data": {
      "text/plain": [
       "['text', True, 2.2, 5]"
      ]
     },
     "execution_count": 57,
     "metadata": {},
     "output_type": "execute_result"
    }
   ],
   "source": [
    "list_1"
   ]
  },
  {
   "cell_type": "code",
   "execution_count": 59,
   "id": "c20d1f9c",
   "metadata": {},
   "outputs": [],
   "source": [
    "#remove()\n",
    "list_1.remove(True)"
   ]
  },
  {
   "cell_type": "code",
   "execution_count": 60,
   "id": "38818e2a",
   "metadata": {},
   "outputs": [
    {
     "data": {
      "text/plain": [
       "['text', 2.2, 5]"
      ]
     },
     "execution_count": 60,
     "metadata": {},
     "output_type": "execute_result"
    }
   ],
   "source": [
    "list_1"
   ]
  },
  {
   "cell_type": "code",
   "execution_count": 61,
   "id": "df9a9729",
   "metadata": {},
   "outputs": [
    {
     "data": {
      "text/plain": [
       "5"
      ]
     },
     "execution_count": 61,
     "metadata": {},
     "output_type": "execute_result"
    }
   ],
   "source": [
    "#pop()\n",
    "#pop(+ve)\n",
    "#pop(-ve)\n",
    "\n",
    "list_1.pop(-1) #index to remove value #() - elimiante or remove last element ; (2) remove the value in index 2\n"
   ]
  },
  {
   "cell_type": "code",
   "execution_count": 63,
   "id": "8eeb6acd",
   "metadata": {},
   "outputs": [
    {
     "data": {
      "text/plain": [
       "['text', 2.2]"
      ]
     },
     "execution_count": 63,
     "metadata": {},
     "output_type": "execute_result"
    }
   ],
   "source": [
    "list_1"
   ]
  },
  {
   "cell_type": "code",
   "execution_count": 64,
   "id": "9fc9ded7",
   "metadata": {},
   "outputs": [
    {
     "data": {
      "text/plain": [
       "2.2"
      ]
     },
     "execution_count": 64,
     "metadata": {},
     "output_type": "execute_result"
    }
   ],
   "source": [
    "list_1.pop(1)"
   ]
  },
  {
   "cell_type": "code",
   "execution_count": 65,
   "id": "388f4bcd",
   "metadata": {},
   "outputs": [],
   "source": [
    "#clear() empty list\n",
    "list_1.clear() "
   ]
  },
  {
   "cell_type": "code",
   "execution_count": 66,
   "id": "b41e74da",
   "metadata": {},
   "outputs": [
    {
     "data": {
      "text/plain": [
       "[]"
      ]
     },
     "execution_count": 66,
     "metadata": {},
     "output_type": "execute_result"
    }
   ],
   "source": [
    "list_1"
   ]
  },
  {
   "cell_type": "code",
   "execution_count": 69,
   "id": "80db9721",
   "metadata": {},
   "outputs": [
    {
     "data": {
      "text/plain": [
       "[]"
      ]
     },
     "execution_count": 69,
     "metadata": {},
     "output_type": "execute_result"
    }
   ],
   "source": [
    "list_1*4"
   ]
  },
  {
   "cell_type": "code",
   "execution_count": 70,
   "id": "af7a93a0",
   "metadata": {},
   "outputs": [],
   "source": [
    "list_3 = [12,23,24]"
   ]
  },
  {
   "cell_type": "code",
   "execution_count": 71,
   "id": "8dcc8119",
   "metadata": {},
   "outputs": [
    {
     "data": {
      "text/plain": [
       "[12, 23, 24]"
      ]
     },
     "execution_count": 71,
     "metadata": {},
     "output_type": "execute_result"
    }
   ],
   "source": [
    "list_3"
   ]
  },
  {
   "cell_type": "code",
   "execution_count": null,
   "id": "7a1b4117",
   "metadata": {},
   "outputs": [],
   "source": []
  },
  {
   "cell_type": "code",
   "execution_count": 72,
   "id": "7e832364",
   "metadata": {},
   "outputs": [
    {
     "data": {
      "text/plain": [
       "24"
      ]
     },
     "execution_count": 72,
     "metadata": {},
     "output_type": "execute_result"
    }
   ],
   "source": [
    "max(list_3) #list,tuple,set"
   ]
  },
  {
   "cell_type": "code",
   "execution_count": 73,
   "id": "cee35878",
   "metadata": {},
   "outputs": [
    {
     "data": {
      "text/plain": [
       "12"
      ]
     },
     "execution_count": 73,
     "metadata": {},
     "output_type": "execute_result"
    }
   ],
   "source": [
    "min(list_3)"
   ]
  },
  {
   "cell_type": "code",
   "execution_count": 74,
   "id": "ef4e2b9c",
   "metadata": {},
   "outputs": [
    {
     "name": "stdout",
     "output_type": "stream",
     "text": [
      "Help on built-in function sort:\n",
      "\n",
      "sort(*, key=None, reverse=False) method of builtins.list instance\n",
      "    Sort the list in ascending order and return None.\n",
      "    \n",
      "    The sort is in-place (i.e. the list itself is modified) and stable (i.e. the\n",
      "    order of two equal elements is maintained).\n",
      "    \n",
      "    If a key function is given, apply it once to each list item and sort them,\n",
      "    ascending or descending, according to their function values.\n",
      "    \n",
      "    The reverse flag can be set to sort in descending order.\n",
      "\n"
     ]
    }
   ],
   "source": [
    "help(list_3.sort)"
   ]
  },
  {
   "cell_type": "code",
   "execution_count": 75,
   "id": "2c5f82d6",
   "metadata": {},
   "outputs": [],
   "source": [
    "list_3 = [12,23,35,32]\n",
    "list_3.sort() #ascending order , #key = None, #reverse = False "
   ]
  },
  {
   "cell_type": "code",
   "execution_count": 76,
   "id": "995a1780",
   "metadata": {},
   "outputs": [
    {
     "data": {
      "text/plain": [
       "[12, 23, 32, 35]"
      ]
     },
     "execution_count": 76,
     "metadata": {},
     "output_type": "execute_result"
    }
   ],
   "source": [
    "list_3"
   ]
  },
  {
   "cell_type": "code",
   "execution_count": 80,
   "id": "665aa3f9",
   "metadata": {},
   "outputs": [
    {
     "name": "stdout",
     "output_type": "stream",
     "text": [
      "[35, 32, 23, 12]\n"
     ]
    }
   ],
   "source": [
    "list_3.sort(reverse=True)\n",
    "print(list_3)"
   ]
  },
  {
   "cell_type": "code",
   "execution_count": 82,
   "id": "2d397d4a",
   "metadata": {},
   "outputs": [
    {
     "name": "stdout",
     "output_type": "stream",
     "text": [
      "['apple', 'c', 'c++', 'java', 'python']\n"
     ]
    }
   ],
   "source": [
    "list3 = ['c' , 'c++' , 'python' , 'java' , 'apple']\n",
    "list3.sort()  #key=None,reverse=False #a-z\n",
    "print(list3)"
   ]
  },
  {
   "cell_type": "code",
   "execution_count": 85,
   "id": "547d5657",
   "metadata": {},
   "outputs": [
    {
     "name": "stdout",
     "output_type": "stream",
     "text": [
      "['python', 'java', 'c++', 'c', 'apple']\n"
     ]
    }
   ],
   "source": [
    "list3.sort(reverse = True) #z-a\n",
    "print(list3)"
   ]
  },
  {
   "cell_type": "code",
   "execution_count": 86,
   "id": "d14a82cc",
   "metadata": {},
   "outputs": [],
   "source": [
    "list3.sort(key=len,reverse=False) #sscending order"
   ]
  },
  {
   "cell_type": "code",
   "execution_count": 87,
   "id": "09362999",
   "metadata": {},
   "outputs": [
    {
     "data": {
      "text/plain": [
       "['c', 'c++', 'java', 'apple', 'python']"
      ]
     },
     "execution_count": 87,
     "metadata": {},
     "output_type": "execute_result"
    }
   ],
   "source": [
    "list3"
   ]
  }
 ],
 "metadata": {
  "kernelspec": {
   "display_name": "Python 3 (ipykernel)",
   "language": "python",
   "name": "python3"
  },
  "language_info": {
   "codemirror_mode": {
    "name": "ipython",
    "version": 3
   },
   "file_extension": ".py",
   "mimetype": "text/x-python",
   "name": "python",
   "nbconvert_exporter": "python",
   "pygments_lexer": "ipython3",
   "version": "3.10.9"
  }
 },
 "nbformat": 4,
 "nbformat_minor": 5
}
