{
 "cells": [
  {
   "cell_type": "code",
   "execution_count": 1,
   "id": "ee490ed3",
   "metadata": {},
   "outputs": [],
   "source": [
    "#tuple() #immutable #no inbuilt fn's\n",
    "#tuple is faster than a list\n",
    "tup1 = (1,2,3,\"text\")"
   ]
  },
  {
   "cell_type": "code",
   "execution_count": 2,
   "id": "c6d9e95d",
   "metadata": {},
   "outputs": [
    {
     "data": {
      "text/plain": [
       "2110287419872"
      ]
     },
     "execution_count": 2,
     "metadata": {},
     "output_type": "execute_result"
    }
   ],
   "source": [
    "id(tup1)"
   ]
  },
  {
   "cell_type": "code",
   "execution_count": 3,
   "id": "0f8c9e1a",
   "metadata": {},
   "outputs": [],
   "source": [
    "#no inbuilt function intuple\n",
    "tup1 = (1,2,3,4,\"text\",54)"
   ]
  },
  {
   "cell_type": "code",
   "execution_count": 4,
   "id": "ad3d266c",
   "metadata": {},
   "outputs": [
    {
     "data": {
      "text/plain": [
       "2110282752320"
      ]
     },
     "execution_count": 4,
     "metadata": {},
     "output_type": "execute_result"
    }
   ],
   "source": [
    "id(tup1)"
   ]
  },
  {
   "cell_type": "code",
   "execution_count": 5,
   "id": "a952adfe",
   "metadata": {},
   "outputs": [
    {
     "data": {
      "text/plain": [
       "1"
      ]
     },
     "execution_count": 5,
     "metadata": {},
     "output_type": "execute_result"
    }
   ],
   "source": [
    "tup1.count(\"text\")"
   ]
  },
  {
   "cell_type": "code",
   "execution_count": 6,
   "id": "31385c77",
   "metadata": {},
   "outputs": [
    {
     "data": {
      "text/plain": [
       "4"
      ]
     },
     "execution_count": 6,
     "metadata": {},
     "output_type": "execute_result"
    }
   ],
   "source": [
    "tup1.index(\"text\")"
   ]
  },
  {
   "cell_type": "code",
   "execution_count": 7,
   "id": "9e9554e4",
   "metadata": {},
   "outputs": [],
   "source": [
    "#no inbuild function in tuple\n",
    "tup1 = (1,2,3,\"true\",53)"
   ]
  },
  {
   "cell_type": "code",
   "execution_count": 8,
   "id": "732ac287",
   "metadata": {},
   "outputs": [
    {
     "data": {
      "text/plain": [
       "2110286934832"
      ]
     },
     "execution_count": 8,
     "metadata": {},
     "output_type": "execute_result"
    }
   ],
   "source": [
    "id(tup1)"
   ]
  },
  {
   "cell_type": "code",
   "execution_count": 9,
   "id": "5efe6c48",
   "metadata": {},
   "outputs": [
    {
     "data": {
      "text/plain": [
       "(1, 2, 3, 'true', 53)"
      ]
     },
     "execution_count": 9,
     "metadata": {},
     "output_type": "execute_result"
    }
   ],
   "source": [
    "tup1"
   ]
  },
  {
   "cell_type": "code",
   "execution_count": 10,
   "id": "25d1c79b",
   "metadata": {},
   "outputs": [],
   "source": [
    "tup2 = (\"excelr\",\"solutions\")"
   ]
  },
  {
   "cell_type": "code",
   "execution_count": 12,
   "id": "21178961",
   "metadata": {},
   "outputs": [
    {
     "data": {
      "text/plain": [
       "(1, 2, 3, 'true', 53, 'excelr', 'solutions', 'excelr', 'solutions')"
      ]
     },
     "execution_count": 12,
     "metadata": {},
     "output_type": "execute_result"
    }
   ],
   "source": [
    "tup1 = tup1 + tup2n  #'+'\n",
    "tup1"
   ]
  },
  {
   "cell_type": "code",
   "execution_count": 13,
   "id": "4551b0df",
   "metadata": {},
   "outputs": [
    {
     "data": {
      "text/plain": [
       "tuple"
      ]
     },
     "execution_count": 13,
     "metadata": {},
     "output_type": "execute_result"
    }
   ],
   "source": [
    "type(tup1)"
   ]
  },
  {
   "cell_type": "code",
   "execution_count": 14,
   "id": "43377546",
   "metadata": {},
   "outputs": [
    {
     "data": {
      "text/plain": [
       "9"
      ]
     },
     "execution_count": 14,
     "metadata": {},
     "output_type": "execute_result"
    }
   ],
   "source": [
    "len(tup1)"
   ]
  },
  {
   "cell_type": "code",
   "execution_count": 15,
   "id": "388d7aaa",
   "metadata": {},
   "outputs": [
    {
     "data": {
      "text/plain": [
       "(1, 2, 3, 'true', 53, 'excelr', 'solutions', 'excelr', 'solutions')"
      ]
     },
     "execution_count": 15,
     "metadata": {},
     "output_type": "execute_result"
    }
   ],
   "source": [
    "tup1"
   ]
  },
  {
   "cell_type": "code",
   "execution_count": 17,
   "id": "a539b1b0",
   "metadata": {},
   "outputs": [
    {
     "name": "stdout",
     "output_type": "stream",
     "text": [
      "(1, 2, 3, 'text', 54, 'excelr', 'soluton')\n"
     ]
    }
   ],
   "source": [
    "tup1 = (1,2,3,\"text\",54,\"excelr\",\"soluton\")\n",
    "print(tup1)"
   ]
  },
  {
   "cell_type": "code",
   "execution_count": 18,
   "id": "f374e1ea",
   "metadata": {},
   "outputs": [
    {
     "data": {
      "text/plain": [
       "('text', 54)"
      ]
     },
     "execution_count": 18,
     "metadata": {},
     "output_type": "execute_result"
    }
   ],
   "source": [
    "tup1[3:5]"
   ]
  },
  {
   "cell_type": "code",
   "execution_count": 20,
   "id": "aea39bde",
   "metadata": {},
   "outputs": [],
   "source": [
    "del(tup1) #del(var) - delete function\n"
   ]
  },
  {
   "cell_type": "code",
   "execution_count": 22,
   "id": "5c2aa034",
   "metadata": {},
   "outputs": [
    {
     "data": {
      "text/plain": [
       "(1,\n",
       " 2,\n",
       " 3,\n",
       " 4,\n",
       " 'text',\n",
       " 1,\n",
       " 2,\n",
       " 3,\n",
       " 4,\n",
       " 'text',\n",
       " 1,\n",
       " 2,\n",
       " 3,\n",
       " 4,\n",
       " 'text',\n",
       " 1,\n",
       " 2,\n",
       " 3,\n",
       " 4,\n",
       " 'text')"
      ]
     },
     "execution_count": 22,
     "metadata": {},
     "output_type": "execute_result"
    }
   ],
   "source": [
    "tup1 = (1,2,3,4,\"text\")\n",
    "tup1*4"
   ]
  },
  {
   "cell_type": "code",
   "execution_count": 24,
   "id": "eb8ff3ac",
   "metadata": {},
   "outputs": [
    {
     "data": {
      "text/plain": [
       "(-10, 200, 0.5)"
      ]
     },
     "execution_count": 24,
     "metadata": {},
     "output_type": "execute_result"
    }
   ],
   "source": [
    "A = 10 ; B = 20\n",
    "A-B , A*B , A/B"
   ]
  },
  {
   "cell_type": "code",
   "execution_count": 28,
   "id": "53e2fc32",
   "metadata": {},
   "outputs": [
    {
     "name": "stdout",
     "output_type": "stream",
     "text": [
      "<class 'tuple'> (10, 20, 30)\n"
     ]
    }
   ],
   "source": [
    "a = (10,20,30)\n",
    "#the default packing of element in python is tuple\n",
    "print(type(a),a)"
   ]
  },
  {
   "cell_type": "code",
   "execution_count": 30,
   "id": "a72eaed9",
   "metadata": {},
   "outputs": [],
   "source": [
    "# Dictionary #dict() #syntax = {key:value}\n",
    "\n",
    "# key is also know a key or index\n",
    "\n",
    "# there no indexing for dict -> mapped sequence\n",
    "\n",
    "dict1 = {} #empty dict -> {} or dict()"
   ]
  },
  {
   "cell_type": "code",
   "execution_count": 31,
   "id": "9c69f65f",
   "metadata": {},
   "outputs": [
    {
     "data": {
      "text/plain": [
       "{}"
      ]
     },
     "execution_count": 31,
     "metadata": {},
     "output_type": "execute_result"
    }
   ],
   "source": [
    "dict1"
   ]
  },
  {
   "cell_type": "code",
   "execution_count": 32,
   "id": "fa046f79",
   "metadata": {},
   "outputs": [
    {
     "data": {
      "text/plain": [
       "dict"
      ]
     },
     "execution_count": 32,
     "metadata": {},
     "output_type": "execute_result"
    }
   ],
   "source": [
    "type(dict1)"
   ]
  },
  {
   "cell_type": "code",
   "execution_count": 33,
   "id": "0b9ef8ab",
   "metadata": {},
   "outputs": [
    {
     "data": {
      "text/plain": [
       "0"
      ]
     },
     "execution_count": 33,
     "metadata": {},
     "output_type": "execute_result"
    }
   ],
   "source": [
    "len(dict1)"
   ]
  },
  {
   "cell_type": "code",
   "execution_count": 34,
   "id": "eb68a361",
   "metadata": {},
   "outputs": [
    {
     "data": {
      "text/plain": [
       "{'name': 'excelr solution', 'year': 2023}"
      ]
     },
     "execution_count": 34,
     "metadata": {},
     "output_type": "execute_result"
    }
   ],
   "source": [
    "dict2 = {\"name\":\"excelr solution\",\"year\":2023}\n",
    "dict2"
   ]
  },
  {
   "cell_type": "code",
   "execution_count": 35,
   "id": "4ac5b219",
   "metadata": {},
   "outputs": [
    {
     "data": {
      "text/plain": [
       "'excelr solution'"
      ]
     },
     "execution_count": 35,
     "metadata": {},
     "output_type": "execute_result"
    }
   ],
   "source": [
    "#no indexing (both +ve and -ve)\n",
    "#indexing will be done on basis of keys\n",
    "\n",
    "dict2[\"name\"]"
   ]
  },
  {
   "cell_type": "code",
   "execution_count": 37,
   "id": "d30efbc5",
   "metadata": {},
   "outputs": [
    {
     "data": {
      "text/plain": [
       "2023"
      ]
     },
     "execution_count": 37,
     "metadata": {},
     "output_type": "execute_result"
    }
   ],
   "source": [
    "dict2[\"year\"]"
   ]
  },
  {
   "cell_type": "code",
   "execution_count": 3,
   "id": "c81501e0",
   "metadata": {},
   "outputs": [],
   "source": [
    "dict2 = {'name':'Excelr Solution','year':2023}"
   ]
  },
  {
   "cell_type": "code",
   "execution_count": 4,
   "id": "36d27f81",
   "metadata": {},
   "outputs": [
    {
     "data": {
      "text/plain": [
       "{'name': 'Excelr Solution', 'year': 2023}"
      ]
     },
     "execution_count": 4,
     "metadata": {},
     "output_type": "execute_result"
    }
   ],
   "source": [
    "dict2 "
   ]
  },
  {
   "cell_type": "code",
   "execution_count": 5,
   "id": "d7f48dcb",
   "metadata": {},
   "outputs": [],
   "source": [
    "#updating\n",
    "dict2['course']=['Data Analyst'] #dict[\"new key\"]=[\"new_value\"]"
   ]
  },
  {
   "cell_type": "code",
   "execution_count": 6,
   "id": "65879207",
   "metadata": {},
   "outputs": [
    {
     "data": {
      "text/plain": [
       "{'name': 'Excelr Solution', 'year': 2023, 'course': ['Data Analyst']}"
      ]
     },
     "execution_count": 6,
     "metadata": {},
     "output_type": "execute_result"
    }
   ],
   "source": [
    "dict2"
   ]
  },
  {
   "cell_type": "code",
   "execution_count": 7,
   "id": "e38ee908",
   "metadata": {},
   "outputs": [],
   "source": [
    "dict2.update({\"newcourse\":\"Python\"}) #to add or update new element in existing dict"
   ]
  },
  {
   "cell_type": "code",
   "execution_count": 8,
   "id": "6813da07",
   "metadata": {},
   "outputs": [
    {
     "data": {
      "text/plain": [
       "{'name': 'Excelr Solution',\n",
       " 'year': 2023,\n",
       " 'course': ['Data Analyst'],\n",
       " 'newcourse': 'Python'}"
      ]
     },
     "execution_count": 8,
     "metadata": {},
     "output_type": "execute_result"
    }
   ],
   "source": [
    "dict2"
   ]
  },
  {
   "cell_type": "code",
   "execution_count": 9,
   "id": "5526fe9e",
   "metadata": {},
   "outputs": [],
   "source": [
    "dict2[\"year\"]=1013"
   ]
  },
  {
   "cell_type": "code",
   "execution_count": 10,
   "id": "edd631c8",
   "metadata": {},
   "outputs": [
    {
     "data": {
      "text/plain": [
       "{'name': 'Excelr Solution',\n",
       " 'year': 1013,\n",
       " 'course': ['Data Analyst'],\n",
       " 'newcourse': 'Python'}"
      ]
     },
     "execution_count": 10,
     "metadata": {},
     "output_type": "execute_result"
    }
   ],
   "source": [
    "dict2"
   ]
  },
  {
   "cell_type": "code",
   "execution_count": 11,
   "id": "09667f0f",
   "metadata": {},
   "outputs": [
    {
     "data": {
      "text/plain": [
       "dict_keys(['name', 'year', 'course', 'newcourse'])"
      ]
     },
     "execution_count": 11,
     "metadata": {},
     "output_type": "execute_result"
    }
   ],
   "source": [
    "dict2.keys()"
   ]
  },
  {
   "cell_type": "code",
   "execution_count": 12,
   "id": "c1a52593",
   "metadata": {},
   "outputs": [
    {
     "data": {
      "text/plain": [
       "dict_values(['Excelr Solution', 1013, ['Data Analyst'], 'Python'])"
      ]
     },
     "execution_count": 12,
     "metadata": {},
     "output_type": "execute_result"
    }
   ],
   "source": [
    "dict2.values()"
   ]
  },
  {
   "cell_type": "code",
   "execution_count": 13,
   "id": "dd064c23",
   "metadata": {},
   "outputs": [
    {
     "data": {
      "text/plain": [
       "dict_items([('name', 'Excelr Solution'), ('year', 1013), ('course', ['Data Analyst']), ('newcourse', 'Python')])"
      ]
     },
     "execution_count": 13,
     "metadata": {},
     "output_type": "execute_result"
    }
   ],
   "source": [
    "dict2.items()"
   ]
  },
  {
   "cell_type": "code",
   "execution_count": 16,
   "id": "60d82523",
   "metadata": {},
   "outputs": [
    {
     "data": {
      "text/plain": [
       "'Python'"
      ]
     },
     "execution_count": 16,
     "metadata": {},
     "output_type": "execute_result"
    }
   ],
   "source": [
    "#pop()  #need a argument called key\n",
    "dict2.pop('newcourse') #dict.pop(\"key\")"
   ]
  },
  {
   "cell_type": "code",
   "execution_count": 17,
   "id": "72ba1b5a",
   "metadata": {},
   "outputs": [
    {
     "data": {
      "text/plain": [
       "('course', ['Data Analyst'])"
      ]
     },
     "execution_count": 17,
     "metadata": {},
     "output_type": "execute_result"
    }
   ],
   "source": [
    "#popitem()  #bydefault removes the last item\n",
    "dict2.popitem()\n"
   ]
  },
  {
   "cell_type": "code",
   "execution_count": 18,
   "id": "cd58c118",
   "metadata": {},
   "outputs": [
    {
     "data": {
      "text/plain": [
       "{'name': 'Excelr Solution', 'year': 1013}"
      ]
     },
     "execution_count": 18,
     "metadata": {},
     "output_type": "execute_result"
    }
   ],
   "source": [
    "dict2"
   ]
  },
  {
   "cell_type": "code",
   "execution_count": 19,
   "id": "16a1c8b1",
   "metadata": {},
   "outputs": [],
   "source": [
    "del(dict2[\"year\"])"
   ]
  },
  {
   "cell_type": "code",
   "execution_count": 20,
   "id": "2bdc21e6",
   "metadata": {},
   "outputs": [
    {
     "data": {
      "text/plain": [
       "{'name': 'Excelr Solution'}"
      ]
     },
     "execution_count": 20,
     "metadata": {},
     "output_type": "execute_result"
    }
   ],
   "source": [
    "dict2"
   ]
  },
  {
   "cell_type": "code",
   "execution_count": 24,
   "id": "26c946de",
   "metadata": {},
   "outputs": [
    {
     "data": {
      "text/plain": [
       "{'name': 'Excelr Solution', 'year': 2023}"
      ]
     },
     "execution_count": 24,
     "metadata": {},
     "output_type": "execute_result"
    }
   ],
   "source": [
    "dict2 = {'name':'Excelr Solution','year':2023}\n",
    "dict2"
   ]
  },
  {
   "cell_type": "code",
   "execution_count": 26,
   "id": "6f5434ce",
   "metadata": {},
   "outputs": [],
   "source": [
    "dict_new = dict2.copy() #can be also written as -> dict_new = dict2"
   ]
  },
  {
   "cell_type": "code",
   "execution_count": 27,
   "id": "ef82ea0b",
   "metadata": {},
   "outputs": [
    {
     "data": {
      "text/plain": [
       "{'name': 'Excelr Solution', 'year': 2023}"
      ]
     },
     "execution_count": 27,
     "metadata": {},
     "output_type": "execute_result"
    }
   ],
   "source": [
    "dict_new"
   ]
  },
  {
   "cell_type": "code",
   "execution_count": 28,
   "id": "45a9e37f",
   "metadata": {},
   "outputs": [
    {
     "data": {
      "text/plain": [
       "'Excelr Solution'"
      ]
     },
     "execution_count": 28,
     "metadata": {},
     "output_type": "execute_result"
    }
   ],
   "source": [
    "dict2.get(\"name\")  #can be also written as dict2[\"name\"]"
   ]
  },
  {
   "cell_type": "markdown",
   "id": "28a22aef",
   "metadata": {},
   "source": [
    "## set"
   ]
  },
  {
   "cell_type": "code",
   "execution_count": 29,
   "id": "b99988c7",
   "metadata": {},
   "outputs": [
    {
     "name": "stdout",
     "output_type": "stream",
     "text": [
      "{1, 2, 3}\n"
     ]
    }
   ],
   "source": [
    "# syntax for set is {1,2,3,4}  #set()\n",
    "\n",
    "set1 = {1,2,3}  #set\n",
    "print(set1)"
   ]
  },
  {
   "cell_type": "code",
   "execution_count": 30,
   "id": "5d6bd47f",
   "metadata": {},
   "outputs": [
    {
     "data": {
      "text/plain": [
       "set"
      ]
     },
     "execution_count": 30,
     "metadata": {},
     "output_type": "execute_result"
    }
   ],
   "source": [
    "type(set1)"
   ]
  },
  {
   "cell_type": "code",
   "execution_count": 31,
   "id": "610f25d6",
   "metadata": {},
   "outputs": [
    {
     "name": "stdout",
     "output_type": "stream",
     "text": [
      "{1, 2, 3, 4}\n"
     ]
    }
   ],
   "source": [
    "#set - union, intersection , symmetric\n",
    "# mutable , union values(no duplicates will be considered),\n",
    "#no positional indexing no positional indexing,\n",
    "#orderd dataset\n",
    "\n",
    "set1 = {1,2,3,4,4} #dupllicates are not allowed\n",
    "print(set1)"
   ]
  },
  {
   "cell_type": "code",
   "execution_count": 33,
   "id": "dc346e01",
   "metadata": {},
   "outputs": [
    {
     "name": "stdout",
     "output_type": "stream",
     "text": [
      "{1, 2, 3, 4}\n",
      "\n"
     ]
    }
   ],
   "source": [
    "#why no indexing\n",
    "print({4,4,1,2,3})\n"
   ]
  },
  {
   "cell_type": "code",
   "execution_count": 34,
   "id": "71dfc8b6",
   "metadata": {},
   "outputs": [],
   "source": [
    "set2 = set() #empty set - set() (there is no other way)"
   ]
  },
  {
   "cell_type": "code",
   "execution_count": 36,
   "id": "d1b42ddc",
   "metadata": {},
   "outputs": [
    {
     "data": {
      "text/plain": [
       "set"
      ]
     },
     "execution_count": 36,
     "metadata": {},
     "output_type": "execute_result"
    }
   ],
   "source": [
    "type(set2)"
   ]
  },
  {
   "cell_type": "code",
   "execution_count": 37,
   "id": "64ef8606",
   "metadata": {},
   "outputs": [
    {
     "data": {
      "text/plain": [
       "0"
      ]
     },
     "execution_count": 37,
     "metadata": {},
     "output_type": "execute_result"
    }
   ],
   "source": [
    "len(set2)"
   ]
  },
  {
   "cell_type": "code",
   "execution_count": 38,
   "id": "35c9a42d",
   "metadata": {},
   "outputs": [
    {
     "data": {
      "text/plain": [
       "dict"
      ]
     },
     "execution_count": 38,
     "metadata": {},
     "output_type": "execute_result"
    }
   ],
   "source": [
    "type({})  #empty dict"
   ]
  },
  {
   "cell_type": "code",
   "execution_count": 39,
   "id": "87538d3f",
   "metadata": {},
   "outputs": [
    {
     "data": {
      "text/plain": [
       "[1, 2, 3, 4, 55]"
      ]
     },
     "execution_count": 39,
     "metadata": {},
     "output_type": "execute_result"
    }
   ],
   "source": [
    "list({1,2,3,4,55})"
   ]
  },
  {
   "cell_type": "code",
   "execution_count": 40,
   "id": "e718ff41",
   "metadata": {},
   "outputs": [
    {
     "data": {
      "text/plain": [
       "(1, 2, 3, 4, 3)"
      ]
     },
     "execution_count": 40,
     "metadata": {},
     "output_type": "execute_result"
    }
   ],
   "source": [
    "tuple([1,2,3,4,3])"
   ]
  },
  {
   "cell_type": "code",
   "execution_count": 43,
   "id": "34a542c3",
   "metadata": {},
   "outputs": [
    {
     "data": {
      "text/plain": [
       "(1, 4)"
      ]
     },
     "execution_count": 43,
     "metadata": {},
     "output_type": "execute_result"
    }
   ],
   "source": [
    "tuple({1,4,4,4})"
   ]
  },
  {
   "cell_type": "code",
   "execution_count": 44,
   "id": "bac277e0",
   "metadata": {},
   "outputs": [],
   "source": [
    "set3 = set([1,2,3,4,4,4]) #converting a list to set by using set fn"
   ]
  },
  {
   "cell_type": "code",
   "execution_count": 45,
   "id": "94bac2fb",
   "metadata": {},
   "outputs": [
    {
     "data": {
      "text/plain": [
       "{1, 2, 3, 4}"
      ]
     },
     "execution_count": 45,
     "metadata": {},
     "output_type": "execute_result"
    }
   ],
   "source": [
    "set3"
   ]
  },
  {
   "cell_type": "code",
   "execution_count": null,
   "id": "d84731b9",
   "metadata": {},
   "outputs": [],
   "source": [
    "set."
   ]
  },
  {
   "cell_type": "code",
   "execution_count": 1,
   "id": "0d2a0e17",
   "metadata": {},
   "outputs": [
    {
     "data": {
      "text/plain": [
       "{1, 2, 3, 4, 5}"
      ]
     },
     "execution_count": 1,
     "metadata": {},
     "output_type": "execute_result"
    }
   ],
   "source": [
    "#union \n",
    "\n",
    "s1 = {1,2,3}\n",
    "s2 = {3,4,5}\n",
    "\n",
    "s1.union(s2) #.union  #s2.union(s1)"
   ]
  },
  {
   "cell_type": "code",
   "execution_count": 2,
   "id": "39a7153b",
   "metadata": {},
   "outputs": [
    {
     "data": {
      "text/plain": [
       "{1, 2, 3, 4, 5}"
      ]
     },
     "execution_count": 2,
     "metadata": {},
     "output_type": "execute_result"
    }
   ],
   "source": [
    "s1|s2  # | - union"
   ]
  },
  {
   "cell_type": "code",
   "execution_count": 3,
   "id": "0c73a77c",
   "metadata": {},
   "outputs": [
    {
     "data": {
      "text/plain": [
       "{3}"
      ]
     },
     "execution_count": 3,
     "metadata": {},
     "output_type": "execute_result"
    }
   ],
   "source": [
    "#.intersection()\n",
    "s1 = {1,2,3}\n",
    "s2 = {3,4,5}\n",
    "\n",
    "s1.intersection(s2)  #s1.insection(s2)"
   ]
  },
  {
   "cell_type": "code",
   "execution_count": null,
   "id": "783ac622",
   "metadata": {},
   "outputs": [],
   "source": [
    "s1&s2 #intersection"
   ]
  },
  {
   "cell_type": "code",
   "execution_count": 7,
   "id": "b3b8f7e2",
   "metadata": {},
   "outputs": [
    {
     "data": {
      "text/plain": [
       "{1, 2, 3, 4}"
      ]
     },
     "execution_count": 7,
     "metadata": {},
     "output_type": "execute_result"
    }
   ],
   "source": [
    "#Differnce (A-B)\n",
    "s1 = {1,2,3,4,5,6}\n",
    "s2 = {5,6,7}\n",
    "\n",
    "s1-s2\n",
    "s1.difference(s2)"
   ]
  },
  {
   "cell_type": "code",
   "execution_count": 8,
   "id": "453a6833",
   "metadata": {},
   "outputs": [
    {
     "data": {
      "text/plain": [
       "{1, 2, 3, 7, 8}"
      ]
     },
     "execution_count": 8,
     "metadata": {},
     "output_type": "execute_result"
    }
   ],
   "source": [
    "#symmetric difference\n",
    "\n",
    "s1 = {1,2,3,4,5,6}\n",
    "s2 = {4,5,6,7,8}\n",
    "s1.symmetric_difference(s2)"
   ]
  },
  {
   "cell_type": "code",
   "execution_count": 10,
   "id": "dccfa742",
   "metadata": {},
   "outputs": [
    {
     "data": {
      "text/plain": [
       "True"
      ]
     },
     "execution_count": 10,
     "metadata": {},
     "output_type": "execute_result"
    }
   ],
   "source": [
    "s1 = {1,2,3,4,5,6}\n",
    "s2 = {1,2,3}\n",
    "\n",
    "s1.issubset(s2)\n",
    "s2.issubset(s1)"
   ]
  },
  {
   "cell_type": "code",
   "execution_count": 12,
   "id": "fb23ef72",
   "metadata": {},
   "outputs": [
    {
     "name": "stdout",
     "output_type": "stream",
     "text": [
      "{1, 2, 3}\n"
     ]
    }
   ],
   "source": [
    "s1 = {1,2,3,4,5}\n",
    "s2 = {1,2,3}\n",
    "s1.intersection_update(s2)\n",
    "print(s1)"
   ]
  },
  {
   "cell_type": "code",
   "execution_count": 13,
   "id": "a2795a65",
   "metadata": {},
   "outputs": [
    {
     "data": {
      "text/plain": [
       "{1, 2, 3}"
      ]
     },
     "execution_count": 13,
     "metadata": {},
     "output_type": "execute_result"
    }
   ],
   "source": [
    "s1"
   ]
  },
  {
   "cell_type": "code",
   "execution_count": 15,
   "id": "4398a39a",
   "metadata": {},
   "outputs": [
    {
     "name": "stdout",
     "output_type": "stream",
     "text": [
      "Help on built-in function mro:\n",
      "\n",
      "mro() method of builtins.type instance\n",
      "    Return a type's method resolution order.\n",
      "\n"
     ]
    }
   ],
   "source": [
    "help(set.mro)"
   ]
  },
  {
   "cell_type": "code",
   "execution_count": 14,
   "id": "3cf4f56a",
   "metadata": {},
   "outputs": [
    {
     "data": {
      "text/plain": [
       "[set, object]"
      ]
     },
     "execution_count": 14,
     "metadata": {},
     "output_type": "execute_result"
    }
   ],
   "source": [
    "set.mro()"
   ]
  },
  {
   "cell_type": "code",
   "execution_count": null,
   "id": "4f299b22",
   "metadata": {},
   "outputs": [],
   "source": [
    "#int,float - numerical data\n",
    "#list,tuple - mix of collection item\n",
    "#set - orderd ,non duplicate& to filter the data\n",
    "#string - storing text data\n",
    "#dictionary - (to strore the key:value) #mapped dequence"
   ]
  },
  {
   "cell_type": "markdown",
   "id": "f0828646",
   "metadata": {},
   "source": [
    "## Input"
   ]
  },
  {
   "cell_type": "code",
   "execution_count": null,
   "id": "4631e220",
   "metadata": {},
   "outputs": [],
   "source": [
    "x = 10 ; Y = 20 # static coding #values of the var's ae already prefixed\n"
   ]
  },
  {
   "cell_type": "code",
   "execution_count": 16,
   "id": "cba04d3d",
   "metadata": {},
   "outputs": [
    {
     "name": "stdout",
     "output_type": "stream",
     "text": [
      "please enter your name: Shubham Mule\n"
     ]
    }
   ],
   "source": [
    "#Dynamic coding #input()\n",
    "name = input(\"please enter your name: \")"
   ]
  },
  {
   "cell_type": "code",
   "execution_count": 17,
   "id": "e33fc296",
   "metadata": {},
   "outputs": [
    {
     "data": {
      "text/plain": [
       "'Shubham Mule'"
      ]
     },
     "execution_count": 17,
     "metadata": {},
     "output_type": "execute_result"
    }
   ],
   "source": [
    "name"
   ]
  },
  {
   "cell_type": "code",
   "execution_count": 18,
   "id": "99f094f1",
   "metadata": {},
   "outputs": [
    {
     "data": {
      "text/plain": [
       "str"
      ]
     },
     "execution_count": 18,
     "metadata": {},
     "output_type": "execute_result"
    }
   ],
   "source": [
    "type (name)"
   ]
  },
  {
   "cell_type": "code",
   "execution_count": 21,
   "id": "1aadf9c1",
   "metadata": {},
   "outputs": [
    {
     "name": "stdout",
     "output_type": "stream",
     "text": [
      "please enter year: 2023\n"
     ]
    }
   ],
   "source": [
    "year = int(input(\"please enter year: \")) #int() \n",
    "#by default , input() wil take any input as string format "
   ]
  },
  {
   "cell_type": "code",
   "execution_count": 22,
   "id": "1fd2d5eb",
   "metadata": {},
   "outputs": [
    {
     "name": "stdout",
     "output_type": "stream",
     "text": [
      "<class 'int'> 2023\n"
     ]
    }
   ],
   "source": [
    "print(type(year),year)"
   ]
  },
  {
   "cell_type": "code",
   "execution_count": 23,
   "id": "00c4ab3b",
   "metadata": {},
   "outputs": [
    {
     "name": "stdout",
     "output_type": "stream",
     "text": [
      "please enter your weight: 56.23\n"
     ]
    }
   ],
   "source": [
    "weight = float(input (\"please enter your weight: \"))"
   ]
  },
  {
   "cell_type": "code",
   "execution_count": 24,
   "id": "1a7fa80e",
   "metadata": {},
   "outputs": [
    {
     "name": "stdout",
     "output_type": "stream",
     "text": [
      "<class 'float'> 56.23\n"
     ]
    }
   ],
   "source": [
    "print(type(weight),weight)"
   ]
  },
  {
   "cell_type": "code",
   "execution_count": 25,
   "id": "637230ae",
   "metadata": {},
   "outputs": [
    {
     "name": "stdout",
     "output_type": "stream",
     "text": [
      "please enter some dtype: {\"key\":\"value\"}\n"
     ]
    }
   ],
   "source": [
    "# eval() - evaluate  #Pass the data in exact syntax\n",
    "new_input = eval(input(\"please enter some dtype: \"))"
   ]
  },
  {
   "cell_type": "code",
   "execution_count": 26,
   "id": "785c961b",
   "metadata": {},
   "outputs": [
    {
     "name": "stdout",
     "output_type": "stream",
     "text": [
      "<class 'dict'> {'key': 'value'}\n"
     ]
    }
   ],
   "source": [
    "print(type(new_input),new_input)"
   ]
  },
  {
   "cell_type": "code",
   "execution_count": 34,
   "id": "936e530a",
   "metadata": {
    "scrolled": true
   },
   "outputs": [
    {
     "name": "stdout",
     "output_type": "stream",
     "text": [
      "please enter your name: shivaji \n"
     ]
    }
   ],
   "source": [
    "new_input2 = list(input(\"please enter your name: \"))"
   ]
  },
  {
   "cell_type": "code",
   "execution_count": 35,
   "id": "dd498cfe",
   "metadata": {},
   "outputs": [
    {
     "name": "stdout",
     "output_type": "stream",
     "text": [
      "<class 'list'> ['s', 'h', 'i', 'v', 'a', 'j', 'i', ' ']\n"
     ]
    }
   ],
   "source": [
    "print(type(new_input2),new_input2)"
   ]
  },
  {
   "cell_type": "markdown",
   "id": "8eb23dd3",
   "metadata": {},
   "source": [
    "## print statements in python"
   ]
  },
  {
   "cell_type": "code",
   "execution_count": 36,
   "id": "bb6f18df",
   "metadata": {},
   "outputs": [
    {
     "name": "stdout",
     "output_type": "stream",
     "text": [
      "enter the name: shubham\n",
      "shubham\n",
      "enter the age: 23\n",
      "23\n"
     ]
    }
   ],
   "source": [
    "name = input (\"enter the name: \")\n",
    "print(name)\n",
    "\n",
    "age = input (\"enter the age: \")\n",
    "print(age)"
   ]
  },
  {
   "cell_type": "code",
   "execution_count": 37,
   "id": "0f84757c",
   "metadata": {},
   "outputs": [
    {
     "name": "stdout",
     "output_type": "stream",
     "text": [
      "hello shubham\n"
     ]
    }
   ],
   "source": [
    "print(\"hello\",name)"
   ]
  },
  {
   "cell_type": "code",
   "execution_count": 41,
   "id": "e5d9a949",
   "metadata": {},
   "outputs": [
    {
     "name": "stdout",
     "output_type": "stream",
     "text": [
      "Hello shubham the age is 23\n"
     ]
    }
   ],
   "source": [
    "print(\"Hello\"+\" \"+name,\"the age is\"+\" \"+str(age))"
   ]
  },
  {
   "cell_type": "code",
   "execution_count": 43,
   "id": "1e85b9d5",
   "metadata": {},
   "outputs": [
    {
     "name": "stdout",
     "output_type": "stream",
     "text": [
      "Hello shubham, the age is 23\n"
     ]
    }
   ],
   "source": [
    "#format()\n",
    "#helps to assign vlaues automattically \n",
    "#o need to bother about type\n",
    "print(\"Hello {}, the age is {}\".format(name,age))"
   ]
  },
  {
   "cell_type": "code",
   "execution_count": 47,
   "id": "5d80022f",
   "metadata": {
    "scrolled": true
   },
   "outputs": [
    {
     "name": "stdout",
     "output_type": "stream",
     "text": [
      "shubham is 23 years old\n"
     ]
    }
   ],
   "source": [
    "print(\"{0} is {1} years old\". format(name,age))"
   ]
  },
  {
   "cell_type": "code",
   "execution_count": 48,
   "id": "bd971ea3",
   "metadata": {},
   "outputs": [
    {
     "name": "stdout",
     "output_type": "stream",
     "text": [
      "Hello shubham, the age is 23 and 23\n"
     ]
    }
   ],
   "source": [
    "print(\"Hello {0}, the age is {1} and {1}\".format(name,age))"
   ]
  },
  {
   "cell_type": "code",
   "execution_count": null,
   "id": "a94cf3a8",
   "metadata": {},
   "outputs": [],
   "source": [
    "#standard way of using print statement\n",
    "#format - {}\n",
    "#print(\"{} is {} years old\".format(name,age))\n",
    "#print(\"{0} is {1} years old\".format(name,age))"
   ]
  },
  {
   "cell_type": "code",
   "execution_count": 50,
   "id": "48dee85b",
   "metadata": {},
   "outputs": [
    {
     "name": "stdout",
     "output_type": "stream",
     "text": [
      "this is an example \n",
      " for your understanding\n"
     ]
    }
   ],
   "source": [
    "#\\n - New line\n",
    "str_new = \"this is an example \\n for your understanding\"\n",
    "print(str_new)"
   ]
  },
  {
   "cell_type": "markdown",
   "id": "61f9f3d4",
   "metadata": {},
   "source": [
    "## Identity Operators\n",
    "\n"
   ]
  },
  {
   "cell_type": "code",
   "execution_count": 54,
   "id": "c3115f0e",
   "metadata": {},
   "outputs": [
    {
     "name": "stdout",
     "output_type": "stream",
     "text": [
      "True\n",
      "True\n"
     ]
    }
   ],
   "source": [
    "#Identical operator -> is,is not\n",
    "a = 10\n",
    "b = 10\n",
    "print(a==b)\n",
    "print(a is b) # a is nothig but b"
   ]
  },
  {
   "cell_type": "code",
   "execution_count": 55,
   "id": "88387c69",
   "metadata": {},
   "outputs": [
    {
     "data": {
      "text/plain": [
       "False"
      ]
     },
     "execution_count": 55,
     "metadata": {},
     "output_type": "execute_result"
    }
   ],
   "source": [
    "a = 'hello'\n",
    "b = 'hello'\n",
    "a is not b"
   ]
  },
  {
   "cell_type": "code",
   "execution_count": 58,
   "id": "9ba9685a",
   "metadata": {},
   "outputs": [
    {
     "name": "stdout",
     "output_type": "stream",
     "text": [
      "2643665363152\n",
      "2643665363152\n",
      "output of a is b: True\n",
      "output of a == b:  True\n"
     ]
    }
   ],
   "source": [
    "a = 256\n",
    "b = 256\n",
    "print(id(a))\n",
    "print(id(b))\n",
    "print(\"output of a is b:\", a is b)\n",
    "\n",
    "print(\"output of a == b: \", a == b)"
   ]
  },
  {
   "cell_type": "code",
   "execution_count": null,
   "id": "551b8218",
   "metadata": {},
   "outputs": [],
   "source": []
  },
  {
   "cell_type": "code",
   "execution_count": 61,
   "id": "0935711d",
   "metadata": {},
   "outputs": [
    {
     "name": "stdout",
     "output_type": "stream",
     "text": [
      "a id 2643786441520\n",
      "b id 2643665363152\n",
      "output of a is b: False\n",
      "output of a==b:  False\n"
     ]
    }
   ],
   "source": [
    "# -5 to 256bytes - they'all be stored in same id #python memory location prefixed\n",
    "# > 256 - python creates individual memory id for the variable. i.e if any variable is having value \n",
    "#own id\n",
    "a = 257\n",
    "print(\"a id\",id(a))\n",
    "a = 257\n",
    "print(\"b id\",id(b))\n",
    "\n",
    "print(\"output of a is b:\", a is b) #not only the value but id should be same\n",
    "print(\"output of a==b: \", a==b)\n",
    "\n",
    "\n",
    "\n"
   ]
  },
  {
   "cell_type": "code",
   "execution_count": 62,
   "id": "1a1d2962",
   "metadata": {},
   "outputs": [],
   "source": [
    "#Membership operators #in , not in #\n",
    "list1 = [1,2,3,\"Hi\",\"hello\"]\n",
    "str1 = \"excelr solution\""
   ]
  },
  {
   "cell_type": "code",
   "execution_count": 63,
   "id": "77b85b1a",
   "metadata": {},
   "outputs": [
    {
     "data": {
      "text/plain": [
       "True"
      ]
     },
     "execution_count": 63,
     "metadata": {},
     "output_type": "execute_result"
    }
   ],
   "source": [
    "1 in list1"
   ]
  },
  {
   "cell_type": "code",
   "execution_count": 64,
   "id": "e093ed35",
   "metadata": {},
   "outputs": [
    {
     "data": {
      "text/plain": [
       "False"
      ]
     },
     "execution_count": 64,
     "metadata": {},
     "output_type": "execute_result"
    }
   ],
   "source": [
    "4 in list1"
   ]
  },
  {
   "cell_type": "code",
   "execution_count": 65,
   "id": "7c04dda9",
   "metadata": {},
   "outputs": [
    {
     "data": {
      "text/plain": [
       "True"
      ]
     },
     "execution_count": 65,
     "metadata": {},
     "output_type": "execute_result"
    }
   ],
   "source": [
    "\"Hi\" in [1,2,3,\"Hi\",\"hello\"]"
   ]
  },
  {
   "cell_type": "code",
   "execution_count": 66,
   "id": "d56b8dad",
   "metadata": {},
   "outputs": [
    {
     "data": {
      "text/plain": [
       "True"
      ]
     },
     "execution_count": 66,
     "metadata": {},
     "output_type": "execute_result"
    }
   ],
   "source": [
    "\"excelr\" in str1"
   ]
  },
  {
   "cell_type": "code",
   "execution_count": 67,
   "id": "f17b3b38",
   "metadata": {},
   "outputs": [],
   "source": [
    "dict = {\"name\":\"python\",\"course\":\"selenium\"}"
   ]
  },
  {
   "cell_type": "code",
   "execution_count": 68,
   "id": "92b0f577",
   "metadata": {},
   "outputs": [
    {
     "data": {
      "text/plain": [
       "True"
      ]
     },
     "execution_count": 68,
     "metadata": {},
     "output_type": "execute_result"
    }
   ],
   "source": [
    "\"name\" in dict"
   ]
  },
  {
   "cell_type": "code",
   "execution_count": 69,
   "id": "da157a48",
   "metadata": {},
   "outputs": [
    {
     "data": {
      "text/plain": [
       "False"
      ]
     },
     "execution_count": 69,
     "metadata": {},
     "output_type": "execute_result"
    }
   ],
   "source": [
    "\"python\" in dict"
   ]
  },
  {
   "cell_type": "code",
   "execution_count": 70,
   "id": "bf5ba0e4",
   "metadata": {},
   "outputs": [
    {
     "data": {
      "text/plain": [
       "dict_keys(['name', 'course'])"
      ]
     },
     "execution_count": 70,
     "metadata": {},
     "output_type": "execute_result"
    }
   ],
   "source": [
    "dict.keys()"
   ]
  },
  {
   "cell_type": "code",
   "execution_count": 71,
   "id": "b0b226af",
   "metadata": {},
   "outputs": [
    {
     "data": {
      "text/plain": [
       "dict_values(['python', 'selenium'])"
      ]
     },
     "execution_count": 71,
     "metadata": {},
     "output_type": "execute_result"
    }
   ],
   "source": [
    "dict.values()"
   ]
  },
  {
   "cell_type": "code",
   "execution_count": 73,
   "id": "b33bebd9",
   "metadata": {},
   "outputs": [
    {
     "data": {
      "text/plain": [
       "True"
      ]
     },
     "execution_count": 73,
     "metadata": {},
     "output_type": "execute_result"
    }
   ],
   "source": [
    "\"name\" in dict.keys()"
   ]
  },
  {
   "cell_type": "markdown",
   "id": "3459c128",
   "metadata": {},
   "source": [
    "## Conditional Statements"
   ]
  },
  {
   "cell_type": "code",
   "execution_count": 2,
   "id": "0d2b2157",
   "metadata": {},
   "outputs": [
    {
     "name": "stdout",
     "output_type": "stream",
     "text": [
      "The 2 is positive \n"
     ]
    }
   ],
   "source": [
    "#if condition  #single condition \n",
    "# condition - check whether num is positive -> num>0\n",
    "num = 2\n",
    "if num>0:\n",
    "    print(\"The {} is positive \".format(num))"
   ]
  },
  {
   "cell_type": "code",
   "execution_count": 3,
   "id": "034429ea",
   "metadata": {},
   "outputs": [
    {
     "name": "stdout",
     "output_type": "stream",
     "text": [
      "negative\n"
     ]
    }
   ],
   "source": [
    "#if else statements\n",
    "\n",
    "#condition-1 : check num is positive \n",
    "#condition-else-> print negative\n",
    "\n",
    "num = -4\n",
    "if num>0:\n",
    "    print(\"positive\")\n",
    "    print(\"this is 2nd line of if\")\n",
    "else:\n",
    "    print(\"negative\")"
   ]
  },
  {
   "cell_type": "code",
   "execution_count": 8,
   "id": "027b3aba",
   "metadata": {},
   "outputs": [
    {
     "name": "stdout",
     "output_type": "stream",
     "text": [
      "num3 is greater\n"
     ]
    }
   ],
   "source": [
    "# if elif else condition \n",
    "# checking the max value in three num\n",
    "num1 = 10\n",
    "num2 = 15\n",
    "num3 = 30\n",
    "#condition 1 -> num1 with num2 & num3\n",
    "#condition 2 -> num2 with num1 & num3\n",
    "#condition 3 -> num3 with num2 & num1\n",
    "if (num1>num2 and num3<num1):\n",
    "    print(\"num1 is greater\")\n",
    "elif (num2>num1 and num3<num2):\n",
    "    print(\"num2 is greater\")\n",
    "elif (num3>num1 and num2<num3):\n",
    "    print(\"num3 is greater\")"
   ]
  },
  {
   "cell_type": "code",
   "execution_count": 9,
   "id": "88824cc7",
   "metadata": {},
   "outputs": [
    {
     "name": "stdout",
     "output_type": "stream",
     "text": [
      "please enter some number: 23\n",
      "positive\n"
     ]
    }
   ],
   "source": [
    "#nested if condition\n",
    "\n",
    "#an if condition within a condition\n",
    "\n",
    "num = int(input(\"please enter some number: \"))\n",
    "if num>=0: #here,num can be > 0 (or) num == 0\n",
    "    if num==0:\n",
    "        print(\"zero\")\n",
    "    else:\n",
    "        print(\"positive\")\n",
    "else:\n",
    "  print(\"negative\")"
   ]
  },
  {
   "cell_type": "markdown",
   "id": "81c2004c",
   "metadata": {},
   "source": [
    "### For loop"
   ]
  },
  {
   "cell_type": "code",
   "execution_count": 15,
   "id": "dae2d448",
   "metadata": {},
   "outputs": [
    {
     "name": "stdout",
     "output_type": "stream",
     "text": [
      "pizza\n",
      "burger\n",
      "apple\n"
     ]
    }
   ],
   "source": [
    "#forloop -> looping or iterations (no condition req)\n",
    "# forloop will until the last element or last row or the last item\n",
    "\n",
    "snaks = [\"pizza\",\"burger\",\"apple\"]\n",
    "\n",
    "#1st loop -> x = \"pizza\"\n",
    "#2nd loop -> y = \"burger\"\n",
    "#3rd loop -> z = \"apple\"\n",
    "#loop terminates\n",
    "for x in snacks :\n",
    " print(x)"
   ]
  },
  {
   "cell_type": "code",
   "execution_count": 16,
   "id": "be08267e",
   "metadata": {
    "scrolled": true
   },
   "outputs": [
    {
     "name": "stdout",
     "output_type": "stream",
     "text": [
      "p\n",
      "y\n",
      "t\n",
      "h\n",
      "o\n",
      "n\n"
     ]
    }
   ],
   "source": [
    "for x in \"python\":\n",
    "    print(x)"
   ]
  },
  {
   "cell_type": "code",
   "execution_count": 18,
   "id": "96dab743",
   "metadata": {},
   "outputs": [
    {
     "data": {
      "text/plain": [
       "[0, 1, 2, 3, 4, 5, 6, 7, 8, 9]"
      ]
     },
     "execution_count": 18,
     "metadata": {},
     "output_type": "execute_result"
    }
   ],
   "source": [
    "# range() -> generate a range of  number -> range(Lowerlimit,upperlimit(n-1))\n",
    "list(range(0,10))"
   ]
  },
  {
   "cell_type": "code",
   "execution_count": 22,
   "id": "fba0d694",
   "metadata": {},
   "outputs": [
    {
     "name": "stdout",
     "output_type": "stream",
     "text": [
      "pizza\n",
      "burger\n",
      "apple\n"
     ]
    }
   ],
   "source": [
    "snaks = ['pizza','burger','apple']\n",
    "# print(snaks[0])\n",
    "# print(snaks[1])\n",
    "# print(snaks[2])\n",
    "\n",
    "#structure -> print([snaks[x]])\n",
    "#1st loop -> x = \"pizza\"\n",
    "#2nd loop -> y = \"burger\"\n",
    "#3rd loop -> z = \"apple\"\n",
    "for x in range(0,3):\n",
    "    \n",
    "    print(snacks[x])\n",
    "    \n",
    "\n"
   ]
  },
  {
   "cell_type": "code",
   "execution_count": 23,
   "id": "c95eb346",
   "metadata": {},
   "outputs": [
    {
     "data": {
      "text/plain": [
       "3"
      ]
     },
     "execution_count": 23,
     "metadata": {},
     "output_type": "execute_result"
    }
   ],
   "source": [
    "len(snacks)"
   ]
  },
  {
   "cell_type": "code",
   "execution_count": 24,
   "id": "2f3042f4",
   "metadata": {},
   "outputs": [
    {
     "name": "stdout",
     "output_type": "stream",
     "text": [
      "pizza\n",
      "burger\n",
      "apple\n"
     ]
    }
   ],
   "source": [
    "for x in range(0,len(snacks)):\n",
    "    print(snaks[x])"
   ]
  },
  {
   "cell_type": "code",
   "execution_count": 25,
   "id": "c5d88af3",
   "metadata": {},
   "outputs": [
    {
     "name": "stdout",
     "output_type": "stream",
     "text": [
      "curent snack  is: pizza\n",
      "curent snack  is: burger\n",
      "curent snack  is: apple\n",
      "Good Day!\n"
     ]
    }
   ],
   "source": [
    "#for each item in sequence , last item reached , no - body of loop , yes ,exit loop\n",
    "\n",
    "#Ex:\n",
    "snaks  = ['pizza','burger','apple']\n",
    "\n",
    "for x in snaks:\n",
    "    print(\"curent snack  is:\",x)\n",
    "print(\"Good Day!\")    \n",
    "    "
   ]
  },
  {
   "cell_type": "code",
   "execution_count": 26,
   "id": "89ffca1c",
   "metadata": {},
   "outputs": [
    {
     "name": "stdout",
     "output_type": "stream",
     "text": [
      "10\n"
     ]
    }
   ],
   "source": [
    "#finding even or odd number\n",
    "# num%2 == 0 -> even\n",
    "num = 10\n",
    "if num%2 == 0:\n",
    "    print(\"{}\".format(num))\n",
    "else:\n",
    "    print(\"odd\",num)"
   ]
  },
  {
   "cell_type": "code",
   "execution_count": 27,
   "id": "0bcb26e7",
   "metadata": {},
   "outputs": [
    {
     "name": "stdout",
     "output_type": "stream",
     "text": [
      "0 is even\n",
      "1 is odd\n",
      "2 is even\n",
      "3 is odd\n",
      "4 is even\n",
      "5 is odd\n",
      "6 is even\n",
      "7 is odd\n",
      "8 is even\n",
      "9 is odd\n",
      "10 is even\n"
     ]
    }
   ],
   "source": [
    "#if else condition in for loop\n",
    "#find even and odd num from o to 10\n",
    "for x in range (0,11):\n",
    "    if x%2 == 0:\n",
    "        print(x,\"is even\")\n",
    "    else:\n",
    "        print(x,\"is odd\")\n",
    "  \n"
   ]
  },
  {
   "cell_type": "code",
   "execution_count": 28,
   "id": "6080e20b",
   "metadata": {},
   "outputs": [
    {
     "name": "stdout",
     "output_type": "stream",
     "text": [
      "google .org\n",
      "google .com\n",
      "google .in\n",
      "yahoo .org\n",
      "yahoo .com\n",
      "yahoo .in\n",
      "facebook .org\n",
      "facebook .com\n",
      "facebook .in\n"
     ]
    }
   ],
   "source": [
    "#nasted for loop \n",
    "# a forloop within for loop\n",
    "\n",
    "list1 = [\"google\",\"yahoo\",\"facebook\"]\n",
    "list2 = [\".org\",\".com\",\".in\"]\n",
    "\n",
    "for x in list1: #main loop #3times \n",
    "    for y in list2: #subloop #3times\n",
    "        print(x,y)"
   ]
  },
  {
   "cell_type": "code",
   "execution_count": 33,
   "id": "9e984cce",
   "metadata": {},
   "outputs": [
    {
     "name": "stdout",
     "output_type": "stream",
     "text": [
      "0 0\n",
      "google.org\n",
      "0 1\n",
      "google.com\n",
      "0 2\n",
      "google.in\n",
      "1 0\n",
      "yahoo.org\n",
      "1 1\n",
      "yahoo.com\n",
      "1 2\n",
      "yahoo.in\n",
      "2 0\n",
      "facebook.org\n",
      "2 1\n",
      "facebook.com\n",
      "2 2\n",
      "facebook.in\n"
     ]
    }
   ],
   "source": [
    "#Nasted for loop \n",
    "\n",
    "#combination of number\n",
    "\n",
    "list1 = [\"google\",\"yahoo\",\"facebook\"]\n",
    "list2 = [\".org\",\".com\",\".in\"]\n",
    "\n",
    "for i in range(0,len(list1)): #range(0,3)\n",
    "    for j in range (0,3):\n",
    "        print(i,j)\n",
    "        print(list1[i]+list2[j])"
   ]
  },
  {
   "cell_type": "code",
   "execution_count": 36,
   "id": "562e940c",
   "metadata": {},
   "outputs": [
    {
     "name": "stdout",
     "output_type": "stream",
     "text": [
      "0\n",
      "1\n",
      "5\n",
      "No Items Left\n"
     ]
    }
   ],
   "source": [
    "#for loop with else:\n",
    "digits = [0,1,5]\n",
    "\n",
    "for i in digits:\n",
    "    print(i)\n",
    "else:\n",
    " print(\"No Items Left\")"
   ]
  },
  {
   "cell_type": "markdown",
   "id": "42fd0695",
   "metadata": {},
   "source": [
    "## While Loop\n"
   ]
  },
  {
   "cell_type": "code",
   "execution_count": null,
   "id": "2cc5faf6",
   "metadata": {},
   "outputs": [],
   "source": [
    "#while condition is true, then run the functions\n",
    "#if condition is false -> then terminate the loop\n",
    "\n",
    "num = 10 \n",
    "while num<11:\n",
    "\n",
    "    #infinite loop"
   ]
  },
  {
   "cell_type": "code",
   "execution_count": 38,
   "id": "1a38afa0",
   "metadata": {},
   "outputs": [
    {
     "name": "stdout",
     "output_type": "stream",
     "text": [
      "5\n",
      "6\n",
      "7\n",
      "8\n",
      "9\n"
     ]
    }
   ],
   "source": [
    "num = 5\n",
    "while num<10:\n",
    "    print(num)\n",
    "    num = num+1  #num+=1 #countr"
   ]
  },
  {
   "cell_type": "code",
   "execution_count": 46,
   "id": "939cc4ea",
   "metadata": {},
   "outputs": [
    {
     "name": "stdout",
     "output_type": "stream",
     "text": [
      "5\n",
      "6\n",
      "7\n",
      "8\n",
      "9\n",
      "10\n",
      "45\n"
     ]
    }
   ],
   "source": [
    "num = 5\n",
    "sum=0\n",
    "while num<=10:\n",
    "    print(num)\n",
    "    sum+=num\n",
    "    num = num+1 #idealy, keep the counter step in the last step\n",
    "    \n",
    "    \n",
    "    \n",
    "    \n",
    "print(sum)    \n",
    "    "
   ]
  },
  {
   "cell_type": "code",
   "execution_count": 47,
   "id": "4ae87767",
   "metadata": {},
   "outputs": [
    {
     "name": "stdout",
     "output_type": "stream",
     "text": [
      "Inside Loop\n",
      "Inside Loop\n",
      "Inside Loop\n",
      "Inside else\n"
     ]
    }
   ],
   "source": [
    "# while loop with else \n",
    "# Example to illustrate\n",
    "# the use of else statement \n",
    "# with the while loop\n",
    "\n",
    "counter = 0\n",
    "while counter < 3:\n",
    "    print(\"Inside Loop\")\n",
    "    counter = counter + 1\n",
    "else:\n",
    "    print(\"Inside else\")"
   ]
  },
  {
   "cell_type": "code",
   "execution_count": 50,
   "id": "9c64466a",
   "metadata": {},
   "outputs": [
    {
     "data": {
      "text/plain": [
       "[1, 2, 3, 4, 5]"
      ]
     },
     "execution_count": 50,
     "metadata": {},
     "output_type": "execute_result"
    }
   ],
   "source": [
    "list(range(1,5+1))"
   ]
  },
  {
   "cell_type": "code",
   "execution_count": null,
   "id": "e384e1fd",
   "metadata": {},
   "outputs": [],
   "source": []
  },
  {
   "cell_type": "code",
   "execution_count": null,
   "id": "cca75cf4",
   "metadata": {},
   "outputs": [],
   "source": []
  },
  {
   "cell_type": "code",
   "execution_count": 55,
   "id": "729b6e81",
   "metadata": {},
   "outputs": [
    {
     "name": "stdout",
     "output_type": "stream",
     "text": [
      "please enter some int5\n",
      "120\n"
     ]
    }
   ],
   "source": [
    "#finding the factoria for given number\n",
    "\n",
    "#-ve - no factorial\n",
    "#0! - 1 and 1! = 1\n",
    "\n",
    "\n",
    "num = int(input(\"please enter some int\"))\n",
    "val=1\n",
    "if num<0:\n",
    "    print(\"no factorial for -ve values\")\n",
    "elif num==1 or num==0:\n",
    "    print(\"1 is the factorial of{}\".format(num))\n",
    "else:\n",
    "    for x in range(1,num+1):\n",
    "        val  = val*x\n",
    "print(val)  \n",
    "        \n",
    "    \n"
   ]
  },
  {
   "cell_type": "markdown",
   "id": "fb3b1c10",
   "metadata": {},
   "source": [
    "## function"
   ]
  },
  {
   "cell_type": "code",
   "execution_count": 56,
   "id": "c849e997",
   "metadata": {},
   "outputs": [],
   "source": [
    "def say_hello():\n",
    "    print(\"Hello\")"
   ]
  },
  {
   "cell_type": "code",
   "execution_count": 59,
   "id": "99589dc1",
   "metadata": {},
   "outputs": [],
   "source": [
    "def say_hello2(name): #here,name is required argument:\n",
    "    print(\"Hello\",name)"
   ]
  },
  {
   "cell_type": "code",
   "execution_count": 62,
   "id": "a1ae6950",
   "metadata": {},
   "outputs": [
    {
     "name": "stdout",
     "output_type": "stream",
     "text": [
      "Hello shubham\n"
     ]
    }
   ],
   "source": [
    "say_hello2(\"shubham\")"
   ]
  },
  {
   "cell_type": "code",
   "execution_count": 63,
   "id": "26764019",
   "metadata": {},
   "outputs": [],
   "source": [
    "def say_hello3(name,age=25): #there, name is mandatory arg, age is default\n",
    "    print(\"Hello {}, the age is {}\".format(name,age))"
   ]
  },
  {
   "cell_type": "code",
   "execution_count": 66,
   "id": "fa980059",
   "metadata": {},
   "outputs": [
    {
     "name": "stdout",
     "output_type": "stream",
     "text": [
      "Hello 40, the age is python\n"
     ]
    }
   ],
   "source": [
    "say_hello3(40,\"python\")"
   ]
  },
  {
   "cell_type": "code",
   "execution_count": 68,
   "id": "14056124",
   "metadata": {},
   "outputs": [],
   "source": [
    "#finding the cube\n",
    "# num**3\n",
    "\n",
    "def cub(num):\n",
    "    val = num**3\n",
    "    raturn val             # print(val)"
   ]
  },
  {
   "cell_type": "code",
   "execution_count": null,
   "id": "77f5efcf",
   "metadata": {},
   "outputs": [],
   "source": []
  },
  {
   "cell_type": "code",
   "execution_count": 69,
   "id": "441244fd",
   "metadata": {},
   "outputs": [
    {
     "name": "stdout",
     "output_type": "stream",
     "text": [
      "27\n"
     ]
    }
   ],
   "source": [
    "cub(3)"
   ]
  },
  {
   "cell_type": "code",
   "execution_count": 70,
   "id": "d8c8abec",
   "metadata": {},
   "outputs": [],
   "source": [
    "def cube_new(num):\n",
    "    return num**3"
   ]
  },
  {
   "cell_type": "code",
   "execution_count": 71,
   "id": "e6a880db",
   "metadata": {},
   "outputs": [
    {
     "data": {
      "text/plain": [
       "27"
      ]
     },
     "execution_count": 71,
     "metadata": {},
     "output_type": "execute_result"
    }
   ],
   "source": [
    "cube_new(3)"
   ]
  },
  {
   "cell_type": "code",
   "execution_count": 72,
   "id": "5fc79a70",
   "metadata": {},
   "outputs": [],
   "source": [
    "def cube_inp():\n",
    "    num = int(input(\"please enter some value\"))\n",
    "    return num**3"
   ]
  },
  {
   "cell_type": "code",
   "execution_count": 73,
   "id": "322cd431",
   "metadata": {},
   "outputs": [
    {
     "name": "stdout",
     "output_type": "stream",
     "text": [
      "please enter some value3\n"
     ]
    },
    {
     "data": {
      "text/plain": [
       "27"
      ]
     },
     "execution_count": 73,
     "metadata": {},
     "output_type": "execute_result"
    }
   ],
   "source": [
    "cube_inp()"
   ]
  },
  {
   "cell_type": "code",
   "execution_count": null,
   "id": "cae1f9ca",
   "metadata": {},
   "outputs": [],
   "source": []
  },
  {
   "cell_type": "code",
   "execution_count": null,
   "id": "591923ce",
   "metadata": {},
   "outputs": [],
   "source": []
  },
  {
   "cell_type": "code",
   "execution_count": null,
   "id": "6856a31e",
   "metadata": {},
   "outputs": [],
   "source": []
  },
  {
   "cell_type": "code",
   "execution_count": null,
   "id": "23f7e915",
   "metadata": {},
   "outputs": [],
   "source": []
  },
  {
   "cell_type": "code",
   "execution_count": null,
   "id": "f9a266c9",
   "metadata": {},
   "outputs": [],
   "source": []
  },
  {
   "cell_type": "code",
   "execution_count": null,
   "id": "177fd17f",
   "metadata": {},
   "outputs": [],
   "source": []
  }
 ],
 "metadata": {
  "kernelspec": {
   "display_name": "Python 3 (ipykernel)",
   "language": "python",
   "name": "python3"
  },
  "language_info": {
   "codemirror_mode": {
    "name": "ipython",
    "version": 3
   },
   "file_extension": ".py",
   "mimetype": "text/x-python",
   "name": "python",
   "nbconvert_exporter": "python",
   "pygments_lexer": "ipython3",
   "version": "3.10.9"
  }
 },
 "nbformat": 4,
 "nbformat_minor": 5
}
